{
 "cells": [
  {
   "cell_type": "markdown",
   "metadata": {},
   "source": [
    "# Box\n",
    "- 深い階層を伴う辞書式配列に対してデータを引っ張ってくるときに便利\n",
    "- configなどに使用すると便利"
   ]
  },
  {
   "cell_type": "code",
   "execution_count": 13,
   "metadata": {},
   "outputs": [],
   "source": [
    "# !pip install python-box\n",
    "from box import Box"
   ]
  },
  {
   "cell_type": "code",
   "execution_count": 14,
   "metadata": {},
   "outputs": [],
   "source": [
    "data = {\n",
    "    \"movies\": {\n",
    "        \"Spaceballs\": {\n",
    "            \"imdb stars\": 7.1,\n",
    "            \"rating\": \"PG\",\n",
    "            \"length\": 96,\n",
    "            \"director\": \"Mel Brooks\",\n",
    "            \"stars\": [\n",
    "                {\"name\": \"Mel Brooks\", \"imdb\": \"nm0000316\",\n",
    "                    \"role\": \"President Skroob\"},\n",
    "                {\"name\": \"John Candy\", \"imdb\": \"nm0001006\", \"role\": \"Barf\"},\n",
    "                {\"name\": \"Rick Moranis\", \"imdb\": \"nm0001548\",\n",
    "                 \"role\": \"Dark Helmet\"}\n",
    "            ]\n",
    "        }\n",
    "    }\n",
    "}"
   ]
  },
  {
   "cell_type": "code",
   "execution_count": 15,
   "metadata": {},
   "outputs": [],
   "source": [
    "box_data = Box(data)"
   ]
  },
  {
   "cell_type": "code",
   "execution_count": 16,
   "metadata": {},
   "outputs": [
    {
     "data": {
      "text/plain": [
       "'Mel Brooks'"
      ]
     },
     "execution_count": 16,
     "metadata": {},
     "output_type": "execute_result"
    }
   ],
   "source": [
    "# 辞書式配列の深い階層の値もJSのように引っ張ってくることができる\n",
    "box_data.movies.Spaceballs.director"
   ]
  },
  {
   "cell_type": "code",
   "execution_count": null,
   "metadata": {},
   "outputs": [],
   "source": []
  }
 ],
 "metadata": {
  "kernelspec": {
   "display_name": "Python 3",
   "language": "python",
   "name": "python3"
  },
  "language_info": {
   "codemirror_mode": {
    "name": "ipython",
    "version": 3
   },
   "file_extension": ".py",
   "mimetype": "text/x-python",
   "name": "python",
   "nbconvert_exporter": "python",
   "pygments_lexer": "ipython3",
   "version": "3.8.5"
  }
 },
 "nbformat": 4,
 "nbformat_minor": 4
}
