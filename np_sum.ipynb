{
 "cells": [
  {
   "cell_type": "markdown",
   "metadata": {},
   "source": [
    "# [np] sum"
   ]
  },
  {
   "cell_type": "code",
   "execution_count": 1,
   "metadata": {},
   "outputs": [],
   "source": [
    "import numpy as np\n",
    "import matplotlib.pyplot as plt\n",
    "import pandas as pd\n",
    "import seaborn as sns"
   ]
  },
  {
   "cell_type": "code",
   "execution_count": 7,
   "metadata": {},
   "outputs": [
    {
     "data": {
      "text/plain": [
       "array([[[ 0,  1,  2,  3,  4],\n",
       "        [ 5,  6,  7,  8,  9],\n",
       "        [10, 11, 12, 13, 14],\n",
       "        [15, 16, 17, 18, 19]],\n",
       "\n",
       "       [[20, 21, 22, 23, 24],\n",
       "        [25, 26, 27, 28, 29],\n",
       "        [30, 31, 32, 33, 34],\n",
       "        [35, 36, 37, 38, 39]],\n",
       "\n",
       "       [[40, 41, 42, 43, 44],\n",
       "        [45, 46, 47, 48, 49],\n",
       "        [50, 51, 52, 53, 54],\n",
       "        [55, 56, 57, 58, 59]]])"
      ]
     },
     "execution_count": 7,
     "metadata": {},
     "output_type": "execute_result"
    }
   ],
   "source": [
    "x = np.arange(60).reshape(3, 4, 5)\n",
    "x"
   ]
  },
  {
   "cell_type": "code",
   "execution_count": 16,
   "metadata": {},
   "outputs": [
    {
     "name": "stdout",
     "output_type": "stream",
     "text": [
      "x_0 [[ 60  63  66  69  72]\n",
      " [ 75  78  81  84  87]\n",
      " [ 90  93  96  99 102]\n",
      " [105 108 111 114 117]]\n",
      "(3, 4, 5) ---> (4, 5)\n"
     ]
    }
   ],
   "source": [
    "# axis=0でのsum\n",
    "x_0 = x.sum(axis=0)\n",
    "print('x_0', x_0)\n",
    "print('{} ---> {}'.format(x.shape, x_0.shape))"
   ]
  },
  {
   "cell_type": "code",
   "execution_count": 17,
   "metadata": {},
   "outputs": [
    {
     "name": "stdout",
     "output_type": "stream",
     "text": [
      "x_0 [[[ 60  63  66  69  72]\n",
      "  [ 75  78  81  84  87]\n",
      "  [ 90  93  96  99 102]\n",
      "  [105 108 111 114 117]]]\n",
      "(3, 4, 5) ---> (1, 4, 5)\n"
     ]
    }
   ],
   "source": [
    "# axis=0でのsum\n",
    "x_0 = x.sum(axis=0, keepdims=True)\n",
    "print('x_0', x_0)\n",
    "print('{} ---> {}'.format(x.shape, x_0.shape))"
   ]
  },
  {
   "cell_type": "code",
   "execution_count": 14,
   "metadata": {},
   "outputs": [
    {
     "name": "stdout",
     "output_type": "stream",
     "text": [
      "x_1 [[ 30  34  38  42  46]\n",
      " [110 114 118 122 126]\n",
      " [190 194 198 202 206]]\n",
      "(3, 4, 5) ---> (3, 5)\n"
     ]
    }
   ],
   "source": [
    "# axis=0でのsum\n",
    "x_1 = x.sum(axis=1)\n",
    "print('x_1', x_1)\n",
    "print('{} ---> {}'.format(x.shape, x_1.shape))"
   ]
  },
  {
   "cell_type": "code",
   "execution_count": null,
   "metadata": {},
   "outputs": [],
   "source": []
  }
 ],
 "metadata": {
  "kernelspec": {
   "display_name": "Python 3",
   "language": "python",
   "name": "python3"
  },
  "language_info": {
   "codemirror_mode": {
    "name": "ipython",
    "version": 3
   },
   "file_extension": ".py",
   "mimetype": "text/x-python",
   "name": "python",
   "nbconvert_exporter": "python",
   "pygments_lexer": "ipython3",
   "version": "3.8.5"
  }
 },
 "nbformat": 4,
 "nbformat_minor": 4
}
