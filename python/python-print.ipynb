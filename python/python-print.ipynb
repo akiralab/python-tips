{
 "cells": [
  {
   "cell_type": "code",
   "execution_count": 5,
   "metadata": {},
   "outputs": [],
   "source": [
    "import time"
   ]
  },
  {
   "cell_type": "markdown",
   "metadata": {},
   "source": [
    "print出力を改行させずに更新する方法（tqdmのような出力）\n",
    "用法\n",
    "1. \\r を先頭につけることで、print出力を常に先頭文字列からスタートさせる\n",
    "2. end=''を指定することで、print出力を強制的に改行させない"
   ]
  },
  {
   "cell_type": "code",
   "execution_count": 16,
   "metadata": {},
   "outputs": [
    {
     "name": "stdout",
     "output_type": "stream",
     "text": [
      " no.9 this string will start at the beginning of the line"
     ]
    }
   ],
   "source": [
    "for i in range(10):\n",
    "    time.sleep(0.2)\n",
    "    print('\\r no.{} this string will start at the beginning of the line'.format(i), end=\"\")"
   ]
  },
  {
   "cell_type": "markdown",
   "metadata": {},
   "source": [
    "簡易的なプログレスバーを作成することもできる"
   ]
  },
  {
   "cell_type": "code",
   "execution_count": 16,
   "metadata": {},
   "outputs": [
    {
     "name": "stdout",
     "output_type": "stream",
     "text": [
      " epoch (100/100) |**************************************************|"
     ]
    }
   ],
   "source": [
    "total_epoch = 100\n",
    "def epoch_to_progress_bar(epoch, total_epoch):\n",
    "    '''\n",
    "        epochから現在の進捗をbar表示するための関数\n",
    "        input: epoch, total_epoch\n",
    "        output: bar type: str\n",
    "    '''\n",
    "    # progress bar length\n",
    "    max_length = 50\n",
    "    # calc current progress\n",
    "    progress_bar = '*' * (epoch * max_length // total_epoch+1) \n",
    "    # progress bar filled with '-'\n",
    "    progress_bar = progress_bar.ljust(max_length, '-')\n",
    "    \n",
    "    return progress_bar\n",
    "\n",
    "\n",
    "for epoch in range(total_epoch):\n",
    "    progress_bar = epoch_to_progress_bar(epoch, total_epoch)\n",
    "\n",
    "    time.sleep(0.1)\n",
    "    print('\\r epoch ({}/{}) |{}|'.format(epoch+1, total_epoch, progress_bar), end='')"
   ]
  },
  {
   "cell_type": "code",
   "execution_count": null,
   "metadata": {},
   "outputs": [],
   "source": []
  }
 ],
 "metadata": {
  "interpreter": {
   "hash": "8c7bd3d5af1ffcfa036d5a60375a51c68ba2d93cac84076b8a7e5d58db041301"
  },
  "kernelspec": {
   "display_name": "Python 3",
   "language": "python",
   "name": "python3"
  },
  "language_info": {
   "codemirror_mode": {
    "name": "ipython",
    "version": 3
   },
   "file_extension": ".py",
   "mimetype": "text/x-python",
   "name": "python",
   "nbconvert_exporter": "python",
   "pygments_lexer": "ipython3",
   "version": "3.8.5"
  }
 },
 "nbformat": 4,
 "nbformat_minor": 4
}
