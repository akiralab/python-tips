{
 "cells": [
  {
   "cell_type": "markdown",
   "id": "655a74be-9161-4e76-828a-806bcb0e0b74",
   "metadata": {},
   "source": [
    "# pythonのprintに革命を起こす！"
   ]
  },
  {
   "cell_type": "code",
   "execution_count": null,
   "id": "18638941-40b7-455c-9700-0bf6bc17ab2c",
   "metadata": {},
   "outputs": [],
   "source": []
  },
  {
   "cell_type": "code",
   "execution_count": null,
   "id": "6141d159-912c-48bb-9378-e5d401119400",
   "metadata": {},
   "outputs": [],
   "source": []
  },
  {
   "cell_type": "code",
   "execution_count": 26,
   "id": "bc36d92c-038a-4f9a-82c5-4a4888f94d1b",
   "metadata": {},
   "outputs": [],
   "source": [
    "class F_COLORS:\n",
    "    BLUE = '\\033[94m'\n",
    "    WARNING = '\\033[93m'\n",
    "    FAIL = '\\033[91m'\n",
    "    NORMAL = '\\033[0m'\n",
    "    BOLD = '\\033[1m'\n",
    "    UNDERLINE = '\\033[4m'\n",
    "    TEST = '\\33[6m'\n",
    "    \n",
    "class B_COLORS:\n",
    "    BLUE = '\\33[44m'\n",
    "    WARNING = '\\33[43m'\n",
    "    FAIL = '\\33[101m'\n",
    "    NORMAL = '\\033[0m'\n",
    "    \n",
    "        "
   ]
  },
  {
   "cell_type": "code",
   "execution_count": 27,
   "id": "1377d844-6fca-4236-aa00-f8868a2a9dc1",
   "metadata": {},
   "outputs": [
    {
     "name": "stdout",
     "output_type": "stream",
     "text": [
      "pythonのprintには、色をつけることができる\n",
      "\u001b[94m-------OK-------\u001b[0m\n",
      "\u001b[93m-------WARNING-------\u001b[0m\n",
      "\u001b[91m-------FAILED-------\u001b[0m\n"
     ]
    }
   ],
   "source": [
    "print('pythonのprintには、色をつけることができる')\n",
    "print(F_COLORS.BLUE + \"-------OK-------\" + F_COLORS.NORMAL)\n",
    "print(F_COLORS.WARNING + \"-------WARNING-------\" + F_COLORS.NORMAL)\n",
    "print(F_COLORS.FAIL + \"-------FAILED-------\" + F_COLORS.NORMAL)"
   ]
  },
  {
   "cell_type": "code",
   "execution_count": 30,
   "id": "1f0ced47-cd14-4c57-8f76-fcb5269e1727",
   "metadata": {},
   "outputs": [
    {
     "name": "stdout",
     "output_type": "stream",
     "text": [
      "太字や下線も引くことができる\n",
      "\u001b[1m-------BOLD-------\u001b[0m\n",
      "\u001b[4m-------UNDERLINE-------\u001b[0m\n"
     ]
    }
   ],
   "source": [
    "print('太字や下線も引くことができる')\n",
    "print(F_COLORS.BOLD + \"-------BOLD-------\" + F_COLORS.NORMAL)\n",
    "print(F_COLORS.UNDERLINE + \"-------UNDERLINE-------\" + F_COLORS.NORMAL)"
   ]
  },
  {
   "cell_type": "code",
   "execution_count": 31,
   "id": "17e7a4d7-4917-4ada-8662-f84076b305d6",
   "metadata": {},
   "outputs": [
    {
     "name": "stdout",
     "output_type": "stream",
     "text": [
      "背景に色をつけることができる\n",
      "\u001b[44m-------OK-------\u001b[0m\n",
      "\u001b[43m-------WARNING-------\u001b[0m\n",
      "\u001b[101m-------FAILED-------\u001b[0m\n"
     ]
    }
   ],
   "source": [
    "print('背景に色をつけることができる')\n",
    "print(B_COLORS.BLUE + \"-------OK-------\" + B_COLORS.NORMAL)\n",
    "print(B_COLORS.WARNING + \"-------WARNING-------\" + B_COLORS.NORMAL)\n",
    "print(B_COLORS.FAIL + \"-------FAILED-------\" + B_COLORS.NORMAL)"
   ]
  },
  {
   "cell_type": "code",
   "execution_count": null,
   "id": "f9b92657-a510-43c6-ab1f-4d3a4a36bfe1",
   "metadata": {},
   "outputs": [],
   "source": []
  },
  {
   "cell_type": "code",
   "execution_count": 36,
   "id": "c88cdabf-8e37-45f4-8298-2cd75603175d",
   "metadata": {},
   "outputs": [
    {
     "name": "stdout",
     "output_type": "stream",
     "text": [
      "組み合わせはたくさんあり\n"
     ]
    }
   ],
   "source": [
    "print(\"組み合わせはたくさんあり\")"
   ]
  },
  {
   "cell_type": "code",
   "execution_count": 37,
   "id": "4a8126a3-3725-4cd6-a940-733613b913e0",
   "metadata": {},
   "outputs": [
    {
     "name": "stdout",
     "output_type": "stream",
     "text": [
      "\u001b[0m\\33[0m\u001b[0m \u001b[1m\\33[1m\u001b[0m \u001b[2m\\33[2m\u001b[0m \u001b[3m\\33[3m\u001b[0m \u001b[4m\\33[4m\u001b[0m \n",
      "\u001b[5m\\33[5m\u001b[0m \u001b[6m\\33[6m\u001b[0m \u001b[7m\\33[7m\u001b[0m \u001b[8m\\33[8m\u001b[0m \u001b[9m\\33[9m\u001b[0m \n",
      "\u001b[10m\\33[10m\u001b[0m \u001b[11m\\33[11m\u001b[0m \u001b[12m\\33[12m\u001b[0m \u001b[13m\\33[13m\u001b[0m \u001b[14m\\33[14m\u001b[0m \n",
      "\u001b[15m\\33[15m\u001b[0m \u001b[16m\\33[16m\u001b[0m \u001b[17m\\33[17m\u001b[0m \u001b[18m\\33[18m\u001b[0m \u001b[19m\\33[19m\u001b[0m \n",
      "\u001b[20m\\33[20m\u001b[0m \u001b[21m\\33[21m\u001b[0m \u001b[22m\\33[22m\u001b[0m \u001b[23m\\33[23m\u001b[0m \u001b[24m\\33[24m\u001b[0m \n",
      "\u001b[25m\\33[25m\u001b[0m \u001b[26m\\33[26m\u001b[0m \u001b[27m\\33[27m\u001b[0m \u001b[28m\\33[28m\u001b[0m \u001b[29m\\33[29m\u001b[0m \n",
      "\u001b[30m\\33[30m\u001b[0m \u001b[31m\\33[31m\u001b[0m \u001b[32m\\33[32m\u001b[0m \u001b[33m\\33[33m\u001b[0m \u001b[34m\\33[34m\u001b[0m \n",
      "\u001b[35m\\33[35m\u001b[0m \u001b[36m\\33[36m\u001b[0m \u001b[37m\\33[37m\u001b[0m \u001b[38m\\33[38m\u001b[0m \u001b[39m\\33[39m\u001b[0m \n",
      "\u001b[40m\\33[40m\u001b[0m \u001b[41m\\33[41m\u001b[0m \u001b[42m\\33[42m\u001b[0m \u001b[43m\\33[43m\u001b[0m \u001b[44m\\33[44m\u001b[0m \n",
      "\u001b[45m\\33[45m\u001b[0m \u001b[46m\\33[46m\u001b[0m \u001b[47m\\33[47m\u001b[0m \u001b[48m\\33[48m\u001b[0m \u001b[49m\\33[49m\u001b[0m \n",
      "\u001b[50m\\33[50m\u001b[0m \u001b[51m\\33[51m\u001b[0m \u001b[52m\\33[52m\u001b[0m \u001b[53m\\33[53m\u001b[0m \u001b[54m\\33[54m\u001b[0m \n",
      "\u001b[55m\\33[55m\u001b[0m \u001b[56m\\33[56m\u001b[0m \u001b[57m\\33[57m\u001b[0m \u001b[58m\\33[58m\u001b[0m \u001b[59m\\33[59m\u001b[0m \n",
      "\u001b[60m\\33[60m\u001b[0m \u001b[61m\\33[61m\u001b[0m \u001b[62m\\33[62m\u001b[0m \u001b[63m\\33[63m\u001b[0m \u001b[64m\\33[64m\u001b[0m \n",
      "\u001b[65m\\33[65m\u001b[0m \u001b[66m\\33[66m\u001b[0m \u001b[67m\\33[67m\u001b[0m \u001b[68m\\33[68m\u001b[0m \u001b[69m\\33[69m\u001b[0m \n",
      "\u001b[70m\\33[70m\u001b[0m \u001b[71m\\33[71m\u001b[0m \u001b[72m\\33[72m\u001b[0m \u001b[73m\\33[73m\u001b[0m \u001b[74m\\33[74m\u001b[0m \n",
      "\u001b[75m\\33[75m\u001b[0m \u001b[76m\\33[76m\u001b[0m \u001b[77m\\33[77m\u001b[0m \u001b[78m\\33[78m\u001b[0m \u001b[79m\\33[79m\u001b[0m \n",
      "\u001b[80m\\33[80m\u001b[0m \u001b[81m\\33[81m\u001b[0m \u001b[82m\\33[82m\u001b[0m \u001b[83m\\33[83m\u001b[0m \u001b[84m\\33[84m\u001b[0m \n",
      "\u001b[85m\\33[85m\u001b[0m \u001b[86m\\33[86m\u001b[0m \u001b[87m\\33[87m\u001b[0m \u001b[88m\\33[88m\u001b[0m \u001b[89m\\33[89m\u001b[0m \n",
      "\u001b[90m\\33[90m\u001b[0m \u001b[91m\\33[91m\u001b[0m \u001b[92m\\33[92m\u001b[0m \u001b[93m\\33[93m\u001b[0m \u001b[94m\\33[94m\u001b[0m \n",
      "\u001b[95m\\33[95m\u001b[0m \u001b[96m\\33[96m\u001b[0m \u001b[97m\\33[97m\u001b[0m \u001b[98m\\33[98m\u001b[0m \u001b[99m\\33[99m\u001b[0m \n",
      "\u001b[100m\\33[100m\u001b[0m \u001b[101m\\33[101m\u001b[0m \u001b[102m\\33[102m\u001b[0m \u001b[103m\\33[103m\u001b[0m \u001b[104m\\33[104m\u001b[0m \n",
      "\u001b[105m\\33[105m\u001b[0m \u001b[106m\\33[106m\u001b[0m \u001b[107m\\33[107m\u001b[0m \u001b[108m\\33[108m\u001b[0m \u001b[109m\\33[109m\u001b[0m \n",
      "\u001b[110m\\33[110m\u001b[0m \u001b[111m\\33[111m\u001b[0m \u001b[112m\\33[112m\u001b[0m \u001b[113m\\33[113m\u001b[0m \u001b[114m\\33[114m\u001b[0m \n",
      "\u001b[115m\\33[115m\u001b[0m \u001b[116m\\33[116m\u001b[0m \u001b[117m\\33[117m\u001b[0m \u001b[118m\\33[118m\u001b[0m \u001b[119m\\33[119m\u001b[0m \n"
     ]
    }
   ],
   "source": [
    "x = 0\n",
    "for i in range(24):\n",
    "    colors = \"\"\n",
    "    for j in range(5):\n",
    "        code = str(x+j)\n",
    "        colors = colors + \"\\33[\" + code + \"m\\\\33[\" + code + \"m\\033[0m \"\n",
    "    print(colors)\n",
    "    x = x + 5"
   ]
  },
  {
   "cell_type": "code",
   "execution_count": null,
   "id": "7dcdab7f-5144-447e-a68a-01e05459a0ab",
   "metadata": {},
   "outputs": [],
   "source": []
  },
  {
   "cell_type": "code",
   "execution_count": null,
   "id": "3a4a7125-fefc-421c-8311-1b89e2dc7558",
   "metadata": {},
   "outputs": [],
   "source": []
  },
  {
   "cell_type": "code",
   "execution_count": null,
   "id": "eae6f152-d202-4984-8466-f3fe466baf92",
   "metadata": {},
   "outputs": [],
   "source": []
  },
  {
   "cell_type": "code",
   "execution_count": null,
   "id": "61500666-df59-48aa-8a4f-5302934577e7",
   "metadata": {},
   "outputs": [],
   "source": []
  },
  {
   "cell_type": "code",
   "execution_count": null,
   "id": "51aef4e9-b1de-423c-ab71-ce41c0a2bbf4",
   "metadata": {},
   "outputs": [],
   "source": []
  }
 ],
 "metadata": {
  "kernelspec": {
   "display_name": "Python 3",
   "language": "python",
   "name": "python3"
  },
  "language_info": {
   "codemirror_mode": {
    "name": "ipython",
    "version": 3
   },
   "file_extension": ".py",
   "mimetype": "text/x-python",
   "name": "python",
   "nbconvert_exporter": "python",
   "pygments_lexer": "ipython3",
   "version": "3.8.9"
  }
 },
 "nbformat": 4,
 "nbformat_minor": 5
}
