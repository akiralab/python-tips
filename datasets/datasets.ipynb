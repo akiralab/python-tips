{
 "metadata": {
  "language_info": {
   "codemirror_mode": {
    "name": "ipython",
    "version": 3
   },
   "file_extension": ".py",
   "mimetype": "text/x-python",
   "name": "python",
   "nbconvert_exporter": "python",
   "pygments_lexer": "ipython3",
   "version": "3.8.5-final"
  },
  "orig_nbformat": 2,
  "kernelspec": {
   "name": "python3",
   "display_name": "Python 3",
   "language": "python"
  }
 },
 "nbformat": 4,
 "nbformat_minor": 2,
 "cells": [
  {
   "cell_type": "code",
   "execution_count": 2,
   "metadata": {},
   "outputs": [
    {
     "output_type": "stream",
     "name": "stdout",
     "text": [
      "--train_x.shape (60000, 28, 28)\n--train_y.shape (60000,)\n---test_x.shape (10000, 28, 28)\n---test_y.shape (10000,)\n"
     ]
    }
   ],
   "source": [
    "# 定番のmnist手描き文字データ\n",
    "# https://www.tensorflow.org/api_docs/python/tf/keras/datasets/mnist/load_data\n",
    "\n",
    "from keras.datasets import mnist\n",
    "\n",
    "(train_x, train_y), (test_x, test_y) = mnist.load_data()\n",
    "\n",
    "print('train_x.shape'.rjust(15, '-'), train_x.shape)\n",
    "print('train_y.shape'.rjust(15, '-'), train_y.shape)\n",
    "print('test_x.shape'.rjust(15, '-'), test_x.shape)\n",
    "print('test_y.shape'.rjust(15, '-'), test_y.shape)"
   ]
  },
  {
   "cell_type": "code",
   "execution_count": null,
   "metadata": {},
   "outputs": [],
   "source": [
    "# https://pytorch.org/docs/stable/torchvision/datasets.html"
   ]
  }
 ]
}