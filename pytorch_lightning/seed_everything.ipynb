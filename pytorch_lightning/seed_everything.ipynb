{
 "cells": [
  {
   "cell_type": "markdown",
   "metadata": {},
   "source": [
    "# seed_everything\n",
    "- pytorch, numpy, python.randomのseedを一括で設定するためのモジュール\n",
    "- [document](https://pytorch-lightning.readthedocs.io/en/stable/api/pytorch_lightning.utilities.seed.html)"
   ]
  },
  {
   "cell_type": "code",
   "execution_count": 3,
   "metadata": {},
   "outputs": [
    {
     "ename": "ModuleNotFoundError",
     "evalue": "No module named 'pytorch_lightning.utils'",
     "output_type": "error",
     "traceback": [
      "\u001b[0;31m---------------------------------------------------------------------------\u001b[0m",
      "\u001b[0;31mModuleNotFoundError\u001b[0m                       Traceback (most recent call last)",
      "\u001b[0;32m<ipython-input-3-d24118b42adf>\u001b[0m in \u001b[0;36m<module>\u001b[0;34m\u001b[0m\n\u001b[0;32m----> 1\u001b[0;31m \u001b[0;32mfrom\u001b[0m \u001b[0mpytorch_lightning\u001b[0m\u001b[0;34m.\u001b[0m\u001b[0mutils\u001b[0m \u001b[0;32mimport\u001b[0m \u001b[0mseed_everything\u001b[0m\u001b[0;34m\u001b[0m\u001b[0;34m\u001b[0m\u001b[0m\n\u001b[0m",
      "\u001b[0;31mModuleNotFoundError\u001b[0m: No module named 'pytorch_lightning.utils'"
     ]
    }
   ],
   "source": [
    "from pytorch_lightning.utils import seed_everything"
   ]
  },
  {
   "cell_type": "code",
   "execution_count": 4,
   "metadata": {},
   "outputs": [
    {
     "name": "stdout",
     "output_type": "stream",
     "text": [
      "Requirement already satisfied: pytorch-lightning in /Users/akirakawai/anaconda3/lib/python3.8/site-packages (1.5.5)\n",
      "Requirement already satisfied: torch>=1.7.* in /Users/akirakawai/anaconda3/lib/python3.8/site-packages (from pytorch-lightning) (1.7.0)\n",
      "Requirement already satisfied: future>=0.17.1 in /Users/akirakawai/anaconda3/lib/python3.8/site-packages (from pytorch-lightning) (0.18.2)\n",
      "Requirement already satisfied: tqdm>=4.41.0 in /Users/akirakawai/anaconda3/lib/python3.8/site-packages (from pytorch-lightning) (4.50.2)\n",
      "Requirement already satisfied: PyYAML>=5.1 in /Users/akirakawai/anaconda3/lib/python3.8/site-packages (from pytorch-lightning) (5.3.1)\n",
      "Requirement already satisfied: torchmetrics>=0.4.1 in /Users/akirakawai/anaconda3/lib/python3.8/site-packages (from pytorch-lightning) (0.6.1)\n",
      "Requirement already satisfied: packaging>=17.0 in /Users/akirakawai/anaconda3/lib/python3.8/site-packages (from pytorch-lightning) (20.4)\n",
      "Requirement already satisfied: typing-extensions in /Users/akirakawai/anaconda3/lib/python3.8/site-packages (from pytorch-lightning) (3.7.4.3)\n",
      "Requirement already satisfied: pyDeprecate==0.3.1 in /Users/akirakawai/anaconda3/lib/python3.8/site-packages (from pytorch-lightning) (0.3.1)\n",
      "Requirement already satisfied: tensorboard>=2.2.0 in /Users/akirakawai/anaconda3/lib/python3.8/site-packages (from pytorch-lightning) (2.4.0)\n",
      "Requirement already satisfied: numpy>=1.17.2 in /Users/akirakawai/anaconda3/lib/python3.8/site-packages (from pytorch-lightning) (1.21.2)\n",
      "Requirement already satisfied: fsspec[http]!=2021.06.0,>=2021.05.0 in /Users/akirakawai/anaconda3/lib/python3.8/site-packages (from pytorch-lightning) (2021.11.1)\n",
      "Requirement already satisfied: dataclasses in /Users/akirakawai/anaconda3/lib/python3.8/site-packages (from torch>=1.7.*->pytorch-lightning) (0.6)\n",
      "Requirement already satisfied: six in /Users/akirakawai/anaconda3/lib/python3.8/site-packages (from packaging>=17.0->pytorch-lightning) (1.15.0)\n",
      "Requirement already satisfied: pyparsing>=2.0.2 in /Users/akirakawai/anaconda3/lib/python3.8/site-packages (from packaging>=17.0->pytorch-lightning) (2.4.7)\n",
      "Requirement already satisfied: wheel>=0.26; python_version >= \"3\" in /Users/akirakawai/anaconda3/lib/python3.8/site-packages (from tensorboard>=2.2.0->pytorch-lightning) (0.35.1)\n",
      "Requirement already satisfied: grpcio>=1.24.3 in /Users/akirakawai/anaconda3/lib/python3.8/site-packages (from tensorboard>=2.2.0->pytorch-lightning) (1.34.0)\n",
      "Requirement already satisfied: google-auth-oauthlib<0.5,>=0.4.1 in /Users/akirakawai/anaconda3/lib/python3.8/site-packages (from tensorboard>=2.2.0->pytorch-lightning) (0.4.2)\n",
      "Requirement already satisfied: absl-py>=0.4 in /Users/akirakawai/anaconda3/lib/python3.8/site-packages (from tensorboard>=2.2.0->pytorch-lightning) (0.11.0)\n",
      "Requirement already satisfied: setuptools>=41.0.0 in /Users/akirakawai/anaconda3/lib/python3.8/site-packages (from tensorboard>=2.2.0->pytorch-lightning) (50.3.1.post20201107)\n",
      "Requirement already satisfied: markdown>=2.6.8 in /Users/akirakawai/anaconda3/lib/python3.8/site-packages (from tensorboard>=2.2.0->pytorch-lightning) (3.3.3)\n",
      "Requirement already satisfied: werkzeug>=0.11.15 in /Users/akirakawai/anaconda3/lib/python3.8/site-packages (from tensorboard>=2.2.0->pytorch-lightning) (1.0.1)\n",
      "Requirement already satisfied: requests<3,>=2.21.0 in /Users/akirakawai/anaconda3/lib/python3.8/site-packages (from tensorboard>=2.2.0->pytorch-lightning) (2.24.0)\n",
      "Requirement already satisfied: tensorboard-plugin-wit>=1.6.0 in /Users/akirakawai/anaconda3/lib/python3.8/site-packages (from tensorboard>=2.2.0->pytorch-lightning) (1.7.0)\n",
      "Requirement already satisfied: protobuf>=3.6.0 in /Users/akirakawai/anaconda3/lib/python3.8/site-packages (from tensorboard>=2.2.0->pytorch-lightning) (3.14.0)\n",
      "Requirement already satisfied: google-auth<2,>=1.6.3 in /Users/akirakawai/anaconda3/lib/python3.8/site-packages (from tensorboard>=2.2.0->pytorch-lightning) (1.23.0)\n",
      "Requirement already satisfied: aiohttp; extra == \"http\" in /Users/akirakawai/anaconda3/lib/python3.8/site-packages (from fsspec[http]!=2021.06.0,>=2021.05.0->pytorch-lightning) (3.8.1)\n",
      "Requirement already satisfied: requests-oauthlib>=0.7.0 in /Users/akirakawai/anaconda3/lib/python3.8/site-packages (from google-auth-oauthlib<0.5,>=0.4.1->tensorboard>=2.2.0->pytorch-lightning) (1.3.0)\n",
      "Requirement already satisfied: chardet<4,>=3.0.2 in /Users/akirakawai/anaconda3/lib/python3.8/site-packages (from requests<3,>=2.21.0->tensorboard>=2.2.0->pytorch-lightning) (3.0.4)\n",
      "Requirement already satisfied: idna<3,>=2.5 in /Users/akirakawai/anaconda3/lib/python3.8/site-packages (from requests<3,>=2.21.0->tensorboard>=2.2.0->pytorch-lightning) (2.10)\n",
      "Requirement already satisfied: certifi>=2017.4.17 in /Users/akirakawai/anaconda3/lib/python3.8/site-packages (from requests<3,>=2.21.0->tensorboard>=2.2.0->pytorch-lightning) (2020.6.20)\n",
      "Requirement already satisfied: urllib3!=1.25.0,!=1.25.1,<1.26,>=1.21.1 in /Users/akirakawai/anaconda3/lib/python3.8/site-packages (from requests<3,>=2.21.0->tensorboard>=2.2.0->pytorch-lightning) (1.25.11)\n",
      "Requirement already satisfied: rsa<5,>=3.1.4; python_version >= \"3.5\" in /Users/akirakawai/anaconda3/lib/python3.8/site-packages (from google-auth<2,>=1.6.3->tensorboard>=2.2.0->pytorch-lightning) (4.6)\n",
      "Requirement already satisfied: pyasn1-modules>=0.2.1 in /Users/akirakawai/anaconda3/lib/python3.8/site-packages (from google-auth<2,>=1.6.3->tensorboard>=2.2.0->pytorch-lightning) (0.2.8)\n",
      "Requirement already satisfied: cachetools<5.0,>=2.0.0 in /Users/akirakawai/anaconda3/lib/python3.8/site-packages (from google-auth<2,>=1.6.3->tensorboard>=2.2.0->pytorch-lightning) (4.1.1)\n",
      "Requirement already satisfied: yarl<2.0,>=1.0 in /Users/akirakawai/anaconda3/lib/python3.8/site-packages (from aiohttp; extra == \"http\"->fsspec[http]!=2021.06.0,>=2021.05.0->pytorch-lightning) (1.7.2)\n",
      "Requirement already satisfied: aiosignal>=1.1.2 in /Users/akirakawai/anaconda3/lib/python3.8/site-packages (from aiohttp; extra == \"http\"->fsspec[http]!=2021.06.0,>=2021.05.0->pytorch-lightning) (1.2.0)\n",
      "Requirement already satisfied: frozenlist>=1.1.1 in /Users/akirakawai/anaconda3/lib/python3.8/site-packages (from aiohttp; extra == \"http\"->fsspec[http]!=2021.06.0,>=2021.05.0->pytorch-lightning) (1.2.0)\n",
      "Requirement already satisfied: multidict<7.0,>=4.5 in /Users/akirakawai/anaconda3/lib/python3.8/site-packages (from aiohttp; extra == \"http\"->fsspec[http]!=2021.06.0,>=2021.05.0->pytorch-lightning) (5.2.0)\n",
      "Requirement already satisfied: charset-normalizer<3.0,>=2.0 in /Users/akirakawai/anaconda3/lib/python3.8/site-packages (from aiohttp; extra == \"http\"->fsspec[http]!=2021.06.0,>=2021.05.0->pytorch-lightning) (2.0.9)\n",
      "Requirement already satisfied: attrs>=17.3.0 in /Users/akirakawai/anaconda3/lib/python3.8/site-packages (from aiohttp; extra == \"http\"->fsspec[http]!=2021.06.0,>=2021.05.0->pytorch-lightning) (20.3.0)\n",
      "Requirement already satisfied: async-timeout<5.0,>=4.0.0a3 in /Users/akirakawai/anaconda3/lib/python3.8/site-packages (from aiohttp; extra == \"http\"->fsspec[http]!=2021.06.0,>=2021.05.0->pytorch-lightning) (4.0.1)\n",
      "Requirement already satisfied: oauthlib>=3.0.0 in /Users/akirakawai/anaconda3/lib/python3.8/site-packages (from requests-oauthlib>=0.7.0->google-auth-oauthlib<0.5,>=0.4.1->tensorboard>=2.2.0->pytorch-lightning) (3.1.0)\n",
      "Requirement already satisfied: pyasn1>=0.1.3 in /Users/akirakawai/anaconda3/lib/python3.8/site-packages (from rsa<5,>=3.1.4; python_version >= \"3.5\"->google-auth<2,>=1.6.3->tensorboard>=2.2.0->pytorch-lightning) (0.4.8)\n"
     ]
    }
   ],
   "source": [
    "!pip install pytorch-lightning"
   ]
  },
  {
   "cell_type": "code",
   "execution_count": null,
   "metadata": {},
   "outputs": [],
   "source": []
  }
 ],
 "metadata": {
  "kernelspec": {
   "display_name": "Python 3",
   "language": "python",
   "name": "python3"
  },
  "language_info": {
   "codemirror_mode": {
    "name": "ipython",
    "version": 3
   },
   "file_extension": ".py",
   "mimetype": "text/x-python",
   "name": "python",
   "nbconvert_exporter": "python",
   "pygments_lexer": "ipython3",
   "version": "3.8.5"
  }
 },
 "nbformat": 4,
 "nbformat_minor": 4
}
