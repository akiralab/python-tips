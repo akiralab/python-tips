{
 "cells": [
  {
   "cell_type": "markdown",
   "metadata": {},
   "source": [
    "# ipythonカーネルでshellスクリプト実行時に文字列を格納した変数を渡すことができる\n",
    "\n",
    "### どんな時に便利か\n",
    "- ファイル名を作成する際などに便利"
   ]
  },
  {
   "cell_type": "markdown",
   "metadata": {},
   "source": [
    "- !を用いると、shellコマンドが実行できるが、shellコマンドにpythonの変数名を渡したい場合がある"
   ]
  },
  {
   "cell_type": "code",
   "execution_count": 5,
   "metadata": {},
   "outputs": [
    {
     "name": "stdout",
     "output_type": "stream",
     "text": [
      "mkdir: src/file_A: File exists\n",
      "total 2224\n",
      "drwxr-xr-x  11 akirakawai  staff     352 Sep 21 21:23 \u001b[34m.\u001b[m\u001b[m\n",
      "drwxr-xr-x  21 akirakawai  staff     672 Sep 21 21:24 \u001b[34m..\u001b[m\u001b[m\n",
      "drwxr-xr-x   2 akirakawai  staff      64 Dec  9  2021 \u001b[34m.ipynb_checkpoints\u001b[m\u001b[m\n",
      "-rw-r--r--@  1 akirakawai  staff   92453 Dec  9  2021 c01.gif\n",
      "-rw-r--r--   1 akirakawai  staff   93022 Dec  9  2021 c02.gif\n",
      "-rw-r--r--   1 akirakawai  staff  149880 Dec  9  2021 c03.gif\n",
      "drwxr-xr-x   2 akirakawai  staff      64 Sep 21 21:23 \u001b[34mfile_A\u001b[m\u001b[m\n",
      "-rw-r--r--   1 akirakawai  staff  620636 Dec  9  2021 lena.png\n",
      "-rw-r--r--   1 akirakawai  staff  107261 Dec  9  2021 movie.mp4\n",
      "-rw-r--r--   1 akirakawai  staff   64624 Dec  9  2021 sample.jpg\n",
      "drwxr-xr-x   5 akirakawai  staff     160 Jan 19  2022 \u001b[34mtitanic\u001b[m\u001b[m\n"
     ]
    }
   ],
   "source": [
    "!mkdir src/file_A\n",
    "!ls -la src/"
   ]
  },
  {
   "cell_type": "markdown",
   "metadata": {},
   "source": [
    "- そんな時は、{}で変数名を括ってあげると、変数を文字列としてshellスクリプトに渡すことができる\n",
    "\n",
    "\n"
   ]
  },
  {
   "cell_type": "code",
   "execution_count": 8,
   "metadata": {},
   "outputs": [
    {
     "name": "stdout",
     "output_type": "stream",
     "text": [
      "total 48\n",
      "8 -rw-r--r--    1 akirakawai  staff  2132 Feb 23  2022 README.md\n",
      "0 drwxr-xr-x    6 akirakawai  staff   192 Jan 22  2022 \u001b[34marticles\u001b[m\u001b[m\n",
      "0 drwxr-xr-x    3 akirakawai  staff    96 Mar  2  2021 \u001b[34mbooks\u001b[m\u001b[m\n",
      "0 -rw-r--r--    1 akirakawai  staff     0 Sep 21 21:26 complex_file_name.md\n",
      "0 drwxr-xr-x    6 akirakawai  staff   192 Aug 26 14:28 \u001b[34mdelete\u001b[m\u001b[m\n",
      "0 drwxr-xr-x   55 akirakawai  staff  1760 Aug 26 14:28 \u001b[34mdraft\u001b[m\u001b[m\n",
      "0 drwxr-xr-x    2 akirakawai  staff    64 Sep 21 21:23 \u001b[34mfile_A\u001b[m\u001b[m\n",
      "8 -rw-r--r--    1 akirakawai  staff  2657 Sep 21 21:26 ipython_pass_string.ipynb\n",
      "0 drwxr-xr-x  182 akirakawai  staff  5824 Jan 29  2022 \u001b[34mnode_modules\u001b[m\u001b[m\n",
      "0 drwxr-xr-x    4 akirakawai  staff   128 Aug 26 14:28 \u001b[34mpoker\u001b[m\u001b[m\n",
      "8 -rw-r--r--    1 akirakawai  staff   286 Mar 31 13:02 requirements.txt\n",
      "0 drwxr-xr-x   11 akirakawai  staff   352 Sep 21 21:23 \u001b[34msrc\u001b[m\u001b[m\n",
      "8 -rw-r--r--    1 akirakawai  staff  1096 Aug 26 14:32 template-Copy1.ipynb\n",
      "8 -rw-r--r--    1 akirakawai  staff  1096 Aug 26 14:28 template.ipynb\n",
      "8 -rw-r--r--    1 akirakawai  staff  3427 Aug 26 14:28 torchvision_models.ipynb\n"
     ]
    }
   ],
   "source": [
    "file_name = \"complex_file_name.md\"\n",
    "!touch {file_name}\n",
    "!ls -ls"
   ]
  },
  {
   "cell_type": "markdown",
   "metadata": {},
   "source": [
    "- complex_file_nameという名前のファイルが作成された"
   ]
  },
  {
   "cell_type": "code",
   "execution_count": null,
   "metadata": {},
   "outputs": [],
   "source": []
  }
 ],
 "metadata": {
  "kernelspec": {
   "display_name": "Python 3",
   "language": "python",
   "name": "python3"
  },
  "language_info": {
   "codemirror_mode": {
    "name": "ipython",
    "version": 3
   },
   "file_extension": ".py",
   "mimetype": "text/x-python",
   "name": "python",
   "nbconvert_exporter": "python",
   "pygments_lexer": "ipython3",
   "version": "3.8.9"
  }
 },
 "nbformat": 4,
 "nbformat_minor": 4
}
