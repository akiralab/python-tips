{
 "cells": [
  {
   "cell_type": "markdown",
   "metadata": {},
   "source": [
    "# collectionsとは？\n",
    "\n",
    "### 概要\n",
    "\n",
    "- リストの集計や並び替えに重宝するモジュール\n",
    "\n",
    "### 使用するメリット\n",
    "\n",
    "- 配列データを簡易的に分析するのに便利"
   ]
  },
  {
   "cell_type": "markdown",
   "metadata": {},
   "source": [
    "## Counter"
   ]
  },
  {
   "cell_type": "code",
   "execution_count": 17,
   "metadata": {},
   "outputs": [],
   "source": [
    "from collections import Counter"
   ]
  },
  {
   "cell_type": "code",
   "execution_count": 18,
   "metadata": {},
   "outputs": [
    {
     "name": "stdout",
     "output_type": "stream",
     "text": [
      "[3 7 9 4 7 8 9 5 7 3 7 1 2 3 2 4 5 3 2 3 9 2 2 6 8 8 2 7 3 6 7 1 5 2 1 9 3\n",
      " 9 6 2 7 6 0 4 1 0 2 5 1 2 4 2 0 3 0 6 4 1 9 7 0 4 5 2 2 4 4 3 6 1 1 4 8 7\n",
      " 3 2 4 3 2 1 0 4 0 9 2 3 2 5 6 2 7 9 2 3 0 6 7 6 2 6]\n"
     ]
    }
   ],
   "source": [
    "# ランダムな変数を作成する\n",
    "import numpy as np\n",
    "sample = np.random.randint(10, size=[100])\n",
    "print(sample)"
   ]
  },
  {
   "cell_type": "code",
   "execution_count": 19,
   "metadata": {},
   "outputs": [
    {
     "data": {
      "text/plain": [
       "Counter({3: 13, 7: 11, 9: 8, 4: 11, 8: 4, 5: 6, 1: 9, 2: 20, 6: 10, 0: 8})"
      ]
     },
     "execution_count": 19,
     "metadata": {},
     "output_type": "execute_result"
    }
   ],
   "source": [
    "# カウントする -> {key: 出現数}の辞書配列を出力する\n",
    "Counter(sample)"
   ]
  },
  {
   "cell_type": "code",
   "execution_count": 20,
   "metadata": {},
   "outputs": [
    {
     "data": {
      "text/plain": [
       "[(2, 20), (3, 13), (7, 11)]"
      ]
     },
     "execution_count": 20,
     "metadata": {},
     "output_type": "execute_result"
    }
   ],
   "source": [
    "# もっとも頻出の項目をリストアップする\n",
    "Counter(sample).most_common(3)"
   ]
  },
  {
   "cell_type": "code",
   "execution_count": null,
   "metadata": {},
   "outputs": [],
   "source": []
  },
  {
   "cell_type": "markdown",
   "metadata": {},
   "source": [
    "## OrderdDict\n",
    "- pythonの標準dictの強化版\n",
    "- dict要素に順序が付いており、並び替えなどができる"
   ]
  },
  {
   "cell_type": "code",
   "execution_count": 21,
   "metadata": {},
   "outputs": [],
   "source": [
    "from collections import OrderedDict"
   ]
  },
  {
   "cell_type": "code",
   "execution_count": 28,
   "metadata": {},
   "outputs": [
    {
     "name": "stdout",
     "output_type": "stream",
     "text": [
      "2 20\n",
      "3 13\n",
      "7 11\n",
      "4 11\n",
      "6 10\n",
      "1 9\n",
      "9 8\n",
      "0 8\n",
      "5 6\n",
      "8 4\n"
     ]
    }
   ],
   "source": [
    "# 最頻値で並び替え\n",
    "sample_list = Counter(sample).most_common(len(sample))\n",
    "od = OrderedDict(sample_list)\n",
    "\n",
    "for key, value in (od.items()):\n",
    "    print(key, value)"
   ]
  },
  {
   "cell_type": "code",
   "execution_count": null,
   "metadata": {},
   "outputs": [],
   "source": []
  }
 ],
 "metadata": {
  "kernelspec": {
   "display_name": "Python 3",
   "language": "python",
   "name": "python3"
  },
  "language_info": {
   "codemirror_mode": {
    "name": "ipython",
    "version": 3
   },
   "file_extension": ".py",
   "mimetype": "text/x-python",
   "name": "python",
   "nbconvert_exporter": "python",
   "pygments_lexer": "ipython3",
   "version": "3.8.5"
  }
 },
 "nbformat": 4,
 "nbformat_minor": 4
}
