{
 "cells": [
  {
   "cell_type": "markdown",
   "metadata": {},
   "source": [
    "### hands"
   ]
  },
  {
   "cell_type": "code",
   "execution_count": 13,
   "metadata": {},
   "outputs": [],
   "source": [
    "import numpy as np\n",
    "import random"
   ]
  },
  {
   "cell_type": "code",
   "execution_count": 14,
   "metadata": {},
   "outputs": [],
   "source": [
    "RANKS = {\n",
    "    2: \"2\",\n",
    "    3: \"3\",\n",
    "    4: \"4\",\n",
    "    5: \"5\",\n",
    "    6: \"6\",\n",
    "    7: \"7\",\n",
    "    8: \"8\",\n",
    "    9: \"9\",\n",
    "    10: \"10\",\n",
    "    11: \"J\",\n",
    "    12: \"Q\",\n",
    "    13: \"K\",\n",
    "    14: \"A\",\n",
    "}\n",
    "SUITS = {\n",
    "    3: u\"\\u2665\",  # Hearts\n",
    "    2: u\"\\u2666\",  # Diamonds\n",
    "    1: u\"\\u2663\",  # Clubs\n",
    "    0: u\"\\u2660\",  # Spades\n",
    "}\n",
    "\n",
    "def select_cards(num_cards=1):\n",
    "    return [np.random.randint(2, 14), np.random.randint(4)]\n",
    "\n",
    "def translate(cards) -> str:\n",
    "    return RANKS[cards[0]]+SUITS[cards[1]]"
   ]
  },
  {
   "cell_type": "code",
   "execution_count": 15,
   "metadata": {},
   "outputs": [
    {
     "name": "stdout",
     "output_type": "stream",
     "text": [
      "8♣\n",
      "K♥\n",
      "7♣\n",
      "8♥\n",
      "K♥\n",
      "3♣\n",
      "J♠\n",
      "10♠\n",
      "J♦\n",
      "2♣\n",
      "6♣\n",
      "5♣\n",
      "J♦\n",
      "3♦\n",
      "9♣\n",
      "2♦\n",
      "8♦\n",
      "6♠\n",
      "Q♥\n",
      "6♦\n"
     ]
    }
   ],
   "source": [
    "for i in range(20):\n",
    "    cards = select_cards()\n",
    "    cards_str = translate(cards)\n",
    "    print(cards_str)"
   ]
  },
  {
   "cell_type": "code",
   "execution_count": null,
   "metadata": {},
   "outputs": [],
   "source": []
  },
  {
   "cell_type": "code",
   "execution_count": 16,
   "metadata": {},
   "outputs": [],
   "source": [
    "class Card:\n",
    "    RANKS = {\n",
    "        2: \"2\",\n",
    "        3: \"3\",\n",
    "        4: \"4\",\n",
    "        5: \"5\",\n",
    "        6: \"6\",\n",
    "        7: \"7\",\n",
    "        8: \"8\",\n",
    "        9: \"9\",\n",
    "        10: \"10\",\n",
    "        11: \"J\",\n",
    "        12: \"Q\",\n",
    "        13: \"K\",\n",
    "        14: \"A\",\n",
    "    }\n",
    "    SUITS = {\n",
    "        3: u\"\\u2665\",  # Hearts\n",
    "        2: u\"\\u2666\",  # Diamonds\n",
    "        1: u\"\\u2663\",  # Clubs\n",
    "        0: u\"\\u2660\",  # Spades\n",
    "    }\n",
    "\n",
    "    def __init__(self, rank: int, suit: int):\n",
    "        if rank not in Card.RANKS:\n",
    "            raise ValueError(\"Invalid card rank\")\n",
    "        if suit not in Card.SUITS:\n",
    "            raise ValueError(\"Invalid card suit\")\n",
    "        self._value: int = (rank << 2) + suit\n",
    "\n",
    "    @property\n",
    "    def rank(self) -> int:\n",
    "        return self._value >> 2\n",
    "\n",
    "    @property\n",
    "    def suit(self) -> int:\n",
    "        return self._value & 3\n",
    "\n",
    "    def __lt__(self, other):\n",
    "        return int(self) < int(other)\n",
    "\n",
    "    def __eq__(self, other):\n",
    "        return int(self) == int(other)\n",
    "\n",
    "    def __int__(self):\n",
    "        return self._value\n",
    "\n",
    "    def dto(self):\n",
    "        return self.rank, self.suit"
   ]
  },
  {
   "cell_type": "code",
   "execution_count": 17,
   "metadata": {},
   "outputs": [],
   "source": [
    "# class DeckFactory:\n",
    "#     def __init__(self, lowest_rank: int):\n",
    "#         self._lowest_rank = lowest_rank\n",
    "\n",
    "#     def create_deck(self):\n",
    "#         return Deck(self._lowest_rank)\n",
    "\n",
    "# class Deck:\n",
    "#     def __init__(self, lowest_rank: int):\n",
    "#         self._cards: List[Card] = [Card(rank, suit) for rank in range(lowest_rank, 15) for suit in range(0, 4)]\n",
    "#         self._discard: List[Card] = []\n",
    "#         random.shuffle(self._cards)\n",
    "\n",
    "#     def pop_cards(self, num_cards=1) -> List[Card]:\n",
    "#         \"\"\"Returns and removes cards them from the top of the deck.\"\"\"\n",
    "#         new_cards = []\n",
    "#         if len(self._cards) < num_cards:\n",
    "#             new_cards = self._cards\n",
    "#             self._cards = self._discard\n",
    "#             self._discard = []\n",
    "#             random.shuffle(self._cards)\n",
    "#         return new_cards + [self._cards.pop() for _ in range(num_cards - len(new_cards))]\n",
    "\n",
    "#     def push_cards(self, discard: List[Card]):\n",
    "#         \"\"\"Adds discard\"\"\"\n",
    "#         self._discard += discard"
   ]
  },
  {
   "cell_type": "code",
   "execution_count": 18,
   "metadata": {},
   "outputs": [],
   "source": [
    "# !pip install concurrent"
   ]
  },
  {
   "cell_type": "code",
   "execution_count": 23,
   "metadata": {},
   "outputs": [
    {
     "name": "stdout",
     "output_type": "stream",
     "text": [
      "112272535093425293 is prime: False\n",
      "1125827044579423171 is prime: False\n",
      "11227253506952493 is prime: False\n",
      "115280095519072273 is prime: True\n",
      "115797328480770959 is prime: False\n",
      "10997268959285419 is prime: False\n"
     ]
    }
   ],
   "source": [
    "import concurrent.futures\n",
    "import math\n",
    "\n",
    "PRIMES = [\n",
    "    112272535093425293,\n",
    "    1125827044579423171,\n",
    "    11227253506952493,\n",
    "    115280095519072273,\n",
    "    115797328480770959,\n",
    "    10997268959285419\n",
    "]\n",
    "\n",
    "def is_prime(n):\n",
    "    if n < 2:\n",
    "        return False\n",
    "    if n == 2:\n",
    "        return True\n",
    "    if n % 2 == 0:\n",
    "        return False\n",
    "\n",
    "    sqrt_n = int(math.floor(math.sqrt(n)))\n",
    "    for i in range(3, sqrt_n + 1, 2):\n",
    "        if n % i == 0:\n",
    "            return False\n",
    "    return True\n",
    "\n",
    "def main():\n",
    "    with ThreadPoolExecutor(max_workers=5, thread_name_prefix=\"thread\") as executor:\n",
    "        for number, prime in zip(PRIMES, executor.map(is_prime, PRIMES)):\n",
    "            print('%d is prime: %s' % (number, prime))\n",
    "\n",
    "if __name__ == '__main__':\n",
    "    main()"
   ]
  },
  {
   "cell_type": "code",
   "execution_count": 9,
   "metadata": {},
   "outputs": [
    {
     "name": "stderr",
     "output_type": "stream",
     "text": [
      "[2022-06-01 14:53:09,068] [MainThread] main start\n",
      "[2022-06-01 14:53:09,069] [thread_0] 0 start\n",
      "[2022-06-01 14:53:09,070] [thread_1] 1 start\n",
      "[2022-06-01 14:53:09,070] [MainThread] submit end\n",
      "[2022-06-01 14:53:10,073] [thread_1] 1 end\n",
      "[2022-06-01 14:53:10,073] [thread_0] 0 end\n",
      "[2022-06-01 14:53:10,074] [thread_1] 2 start\n",
      "[2022-06-01 14:53:10,075] [thread_0] 3 start\n",
      "[2022-06-01 14:53:11,079] [thread_1] 2 end\n",
      "[2022-06-01 14:53:11,079] [thread_0] 3 end\n",
      "[2022-06-01 14:53:11,080] [thread_1] 4 start\n",
      "[2022-06-01 14:53:12,085] [thread_1] 4 end\n",
      "[2022-06-01 14:53:12,086] [MainThread] main end\n"
     ]
    }
   ],
   "source": [
    "import time\n",
    "from concurrent.futures import ThreadPoolExecutor\n",
    "from logging import StreamHandler, Formatter, INFO, getLogger\n",
    "\n",
    "def init_logger():\n",
    "    handler = StreamHandler()\n",
    "    handler.setLevel(INFO)\n",
    "    handler.setFormatter(Formatter(\"[%(asctime)s] [%(threadName)s] %(message)s\"))\n",
    "    logger = getLogger()\n",
    "    logger.addHandler(handler)\n",
    "    logger.setLevel(INFO)\n",
    "\n",
    "\n",
    "def task(v):\n",
    "    getLogger().info(\"%s start\", v)\n",
    "    time.sleep(1.0)\n",
    "    getLogger().info(\"%s end\", v)\n",
    "\n",
    "\n",
    "def main():\n",
    "    init_logger()\n",
    "    getLogger().info(\"main start\")\n",
    "    with ThreadPoolExecutor(max_workers=2, thread_name_prefix=\"thread\") as executor:\n",
    "        for i in range(5):\n",
    "            executor.submit(task, i)\n",
    "        getLogger().info(\"submit end\")\n",
    "    getLogger().info(\"main end\")\n",
    "\n",
    "\n",
    "if __name__ == \"__main__\":\n",
    "    main()"
   ]
  },
  {
   "cell_type": "code",
   "execution_count": 12,
   "metadata": {},
   "outputs": [
    {
     "name": "stdout",
     "output_type": "stream",
     "text": [
      "usage: 05_process.py max_workers chunk_size num_tasks num_calc\n"
     ]
    },
    {
     "ename": "SystemExit",
     "evalue": "1",
     "output_type": "error",
     "traceback": [
      "An exception has occurred, use %tb to see the full traceback.\n",
      "\u001b[0;31mSystemExit\u001b[0m\u001b[0;31m:\u001b[0m 1\n"
     ]
    },
    {
     "name": "stderr",
     "output_type": "stream",
     "text": [
      "/Users/akirakawai/anaconda3/lib/python3.8/site-packages/IPython/core/interactiveshell.py:3426: UserWarning: To exit: use 'exit', 'quit', or Ctrl-D.\n",
      "  warn(\"To exit: use 'exit', 'quit', or Ctrl-D.\", stacklevel=1)\n"
     ]
    }
   ],
   "source": [
    "import sys\n",
    "import time\n",
    "from concurrent.futures.process import ProcessPoolExecutor\n",
    "from logging import StreamHandler, Formatter, INFO, getLogger\n",
    "from random import random\n",
    "from time import time\n",
    "\n",
    "def init_logger():\n",
    "    handler = StreamHandler()\n",
    "    handler.setLevel(INFO)\n",
    "    handler.setFormatter(Formatter(\"[%(asctime)s] [%(threadName)s] %(message)s\"))\n",
    "    logger = getLogger()\n",
    "    logger.addHandler(handler)\n",
    "    logger.setLevel(INFO)\n",
    "\n",
    "\n",
    "def task(params):\n",
    "    (v, num_calc) = params\n",
    "    a = float(v)\n",
    "    for _ in range(num_calc):\n",
    "        a = pow(a, a)\n",
    "    return a\n",
    "\n",
    "\n",
    "def main():\n",
    "    init_logger()\n",
    "\n",
    "    if len(sys.argv) != 5:\n",
    "        print(\"usage: 05_process.py max_workers chunk_size num_tasks num_calc\")\n",
    "        sys.exit(1)\n",
    "    (max_workers, chunk_size, num_tasks, num_calc) = map(int, sys.argv[1:])\n",
    "\n",
    "    start = time()\n",
    "\n",
    "    with ProcessPoolExecutor(max_workers=max_workers) as executor:\n",
    "        params = map(lambda _: (random(), num_calc), range(num_tasks))\n",
    "        results = executor.map(task, params, chunksize=chunk_size)\n",
    "    getLogger().info(sum(results))\n",
    "\n",
    "    getLogger().info(\"{:.3f}\".format(time() - start))\n",
    "\n",
    "if __name__ == \"__main__\":\n",
    "    main()"
   ]
  },
  {
   "cell_type": "code",
   "execution_count": null,
   "metadata": {},
   "outputs": [],
   "source": []
  }
 ],
 "metadata": {
  "kernelspec": {
   "display_name": "Python 3",
   "language": "python",
   "name": "python3"
  },
  "language_info": {
   "codemirror_mode": {
    "name": "ipython",
    "version": 3
   },
   "file_extension": ".py",
   "mimetype": "text/x-python",
   "name": "python",
   "nbconvert_exporter": "python",
   "pygments_lexer": "ipython3",
   "version": "3.8.5"
  }
 },
 "nbformat": 4,
 "nbformat_minor": 4
}
