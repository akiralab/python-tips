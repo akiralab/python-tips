{
 "cells": [
  {
   "cell_type": "code",
   "execution_count": 3,
   "metadata": {},
   "outputs": [],
   "source": [
    "import numpy as np\n",
    "import matplotlib.pyplot as plt\n",
    "import pandas as pd\n",
    "import seaborn as sns\n",
    "import scipy"
   ]
  },
  {
   "cell_type": "markdown",
   "metadata": {},
   "source": [
    "### さまざまな確率を計算する"
   ]
  },
  {
   "cell_type": "code",
   "execution_count": 38,
   "metadata": {},
   "outputs": [],
   "source": [
    "def calc_probability(num_deck, num_target, num_draw, minimum_hit=1):\n",
    "    \n",
    "    total_perms = scipy.special.perm(N=num_deck, k=num_draw)\n",
    "    unhappen_perms = scipy.special.perm(N=(num_deck-num_target), k=num_draw)\n",
    "    probability = (1 - (unhappen_perms/total_perms))*100\n",
    "    \n",
    "    if minimum_hit>1:\n",
    "        happen_perms = scipy.special.perm(N=num_target, k=minimum_hit)\n",
    "        probability = (1 - (happen_perms/total_perms))**(num_draw)\n",
    "    \n",
    "    return probability\n",
    "\n",
    "# def calc_combination(num_deck, num_target, num_draw):\n",
    "    \n",
    "#     total_combinations = scipy.special.comb(N=num_deck, k=num_draw)\n",
    "#     unhappen_combinations = scipy.special.comb(N=(num_deck-num_target), k=num_draw)\n",
    "    \n",
    "#     probability = (1 - (unhappen_combinations/total_combinations))*100\n",
    "    \n",
    "#     return probability"
   ]
  },
  {
   "cell_type": "markdown",
   "metadata": {},
   "source": [
    "### 1. プリフロの確率"
   ]
  },
  {
   "cell_type": "code",
   "execution_count": 40,
   "metadata": {},
   "outputs": [
    {
     "data": {
      "text/plain": [
       "0.00280349849296202"
      ]
     },
     "execution_count": 40,
     "metadata": {},
     "output_type": "execute_result"
    }
   ],
   "source": [
    "# プリフロでAが落ちる確率（簡易計算）\n",
    "# デッキは50枚（52枚-自分の手札2枚）, Aの残り枚数は3枚, プリフロは3枚引くため\n",
    "calc_probability(num_deck=50, num_target=11, num_draw=3, minimum_hit=2)"
   ]
  },
  {
   "cell_type": "code",
   "execution_count": 36,
   "metadata": {},
   "outputs": [
    {
     "data": {
      "text/plain": [
       "17.270408163265305"
      ]
     },
     "execution_count": 36,
     "metadata": {},
     "output_type": "execute_result"
    }
   ],
   "source": [
    "# プリフロでAが落ちる確率（詳細計算）\n",
    "#（52枚-自分の手札2枚-）, Aの残り枚数は3枚, プリフロは3枚引くため\n",
    "calc_probability(num_deck=50, num_target=3, num_draw=3)"
   ]
  },
  {
   "cell_type": "code",
   "execution_count": null,
   "metadata": {},
   "outputs": [],
   "source": []
  },
  {
   "cell_type": "code",
   "execution_count": null,
   "metadata": {},
   "outputs": [],
   "source": []
  },
  {
   "cell_type": "code",
   "execution_count": 37,
   "metadata": {},
   "outputs": [
    {
     "name": "stdout",
     "output_type": "stream",
     "text": [
      "狙いのカードN枚の場合、50枚のデッキから引ける確率\n",
      "1枚引く場合、2枚引く場合、3枚引く場合、4枚引く場合、5枚引く場合\n",
      "  1枚 ->  2.00%,  4.00%,  6.00%,  8.00%, 10.00%\n",
      "  2枚 ->  4.00%,  7.92%, 11.76%, 15.51%, 19.18%\n",
      "  3枚 ->  6.00%, 11.76%, 17.27%, 22.55%, 27.60%\n",
      "  4枚 ->  8.00%, 15.51%, 22.55%, 29.14%, 35.30%\n",
      "  5枚 -> 10.00%, 19.18%, 27.60%, 35.30%, 42.34%\n",
      "  6枚 -> 12.00%, 22.78%, 32.43%, 41.05%, 48.74%\n",
      "  7枚 -> 14.00%, 26.29%, 37.04%, 46.41%, 54.57%\n",
      "  8枚 -> 16.00%, 29.71%, 41.43%, 51.40%, 59.85%\n",
      "  9枚 -> 18.00%, 33.06%, 45.61%, 56.03%, 64.63%\n"
     ]
    }
   ],
   "source": [
    "print('狙いのカードN枚の場合、50枚のデッキから引ける確率')\n",
    "print('1枚引く場合、2枚引く場合、3枚引く場合、4枚引く場合、5枚引く場合')\n",
    "for i in np.arange(1, 10):\n",
    "    print(\"{:3}枚 -> {:5.2f}%, {:5.2f}%, {:5.2f}%, {:5.2f}%, {:5.2f}%\".format(i, calc_probability(50, i, 1), calc_probability(50, i, 2), calc_probability(50, i, 3), calc_probability(50, i, 4), calc_probability(50, i, 5)))"
   ]
  },
  {
   "cell_type": "code",
   "execution_count": 33,
   "metadata": {},
   "outputs": [
    {
     "name": "stdout",
     "output_type": "stream",
     "text": [
      "狙いのカードN枚の場合、40枚のデッキから引ける確率\n",
      "1枚引く場合、2枚引く場合、3枚引く場合、4枚引く場合、5枚引く場合\n",
      "  1枚 ->  2.50%,  5.00%,  7.50%, 10.00%, 12.50%\n",
      "  2枚 ->  5.00%,  9.87%, 14.62%, 19.23%, 23.72%\n",
      "  3枚 ->  7.50%, 14.62%, 21.36%, 27.73%, 33.76%\n",
      "  4枚 -> 10.00%, 19.23%, 27.73%, 35.55%, 42.71%\n",
      "  5枚 -> 12.50%, 23.72%, 33.76%, 42.71%, 50.66%\n",
      "  6枚 -> 15.00%, 28.08%, 39.43%, 49.25%, 57.71%\n",
      "  7枚 -> 17.50%, 32.31%, 44.78%, 55.22%, 63.93%\n",
      "  8枚 -> 20.00%, 36.41%, 49.80%, 60.65%, 69.40%\n",
      "  9枚 -> 22.50%, 40.38%, 54.50%, 65.57%, 74.18%\n"
     ]
    }
   ],
   "source": [
    "print('狙いのカードN枚の場合、40枚のデッキから引ける確率')\n",
    "print('1枚引く場合、2枚引く場合、3枚引く場合、4枚引く場合、5枚引く場合')\n",
    "num_deck=40\n",
    "for i in np.arange(1, 10):\n",
    "    print(\"{:3}枚 -> {:5.2f}%, {:5.2f}%, {:5.2f}%, {:5.2f}%, {:5.2f}%\".format(i, \n",
    "                                                                   calc_probability(num_deck, i, 1), \n",
    "                                                                   calc_probability(num_deck, i, 2), \n",
    "                                                                   calc_probability(num_deck, i, 3), \n",
    "                                                                   calc_probability(num_deck, i, 4),\n",
    "                                                                   calc_probability(num_deck, i, 5)))\n",
    "    \n",
    "    \n",
    "    "
   ]
  },
  {
   "cell_type": "code",
   "execution_count": null,
   "metadata": {},
   "outputs": [],
   "source": []
  },
  {
   "cell_type": "code",
   "execution_count": null,
   "metadata": {},
   "outputs": [],
   "source": []
  },
  {
   "cell_type": "code",
   "execution_count": null,
   "metadata": {},
   "outputs": [],
   "source": []
  },
  {
   "cell_type": "code",
   "execution_count": null,
   "metadata": {},
   "outputs": [],
   "source": []
  }
 ],
 "metadata": {
  "kernelspec": {
   "display_name": "Python 3",
   "language": "python",
   "name": "python3"
  },
  "language_info": {
   "codemirror_mode": {
    "name": "ipython",
    "version": 3
   },
   "file_extension": ".py",
   "mimetype": "text/x-python",
   "name": "python",
   "nbconvert_exporter": "python",
   "pygments_lexer": "ipython3",
   "version": "3.8.5"
  }
 },
 "nbformat": 4,
 "nbformat_minor": 4
}
