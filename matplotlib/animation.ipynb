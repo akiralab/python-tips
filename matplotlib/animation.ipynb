{
 "metadata": {
  "language_info": {
   "codemirror_mode": {
    "name": "ipython",
    "version": 3
   },
   "file_extension": ".py",
   "mimetype": "text/x-python",
   "name": "python",
   "nbconvert_exporter": "python",
   "pygments_lexer": "ipython3",
   "version": "3.7.6-final"
  },
  "orig_nbformat": 2,
  "kernelspec": {
   "name": "python3",
   "display_name": "Python 3",
   "language": "python"
  }
 },
 "nbformat": 4,
 "nbformat_minor": 2,
 "cells": [
  {
   "cell_type": "code",
   "execution_count": 9,
   "metadata": {},
   "outputs": [
    {
     "output_type": "stream",
     "name": "stderr",
     "text": [
      "Traceback (most recent call last):\n  File \"/Users/akirakawai/anaconda3/lib/python3.7/site-packages/matplotlib/cbook/__init__.py\", line 216, in process\n    func(*args, **kwargs)\n  File \"/Users/akirakawai/anaconda3/lib/python3.7/site-packages/matplotlib/animation.py\", line 953, in _start\n    self._init_draw()\n  File \"/Users/akirakawai/anaconda3/lib/python3.7/site-packages/matplotlib/animation.py\", line 1732, in _init_draw\n    self._draw_frame(next(self.new_frame_seq()))\n  File \"/Users/akirakawai/anaconda3/lib/python3.7/site-packages/matplotlib/animation.py\", line 1758, in _draw_frame\n    raise RuntimeError('The animation function must return a '\nRuntimeError: The animation function must return a sequence of Artist objects.\n"
     ]
    },
    {
     "output_type": "error",
     "ename": "RuntimeError",
     "evalue": "The animation function must return a sequence of Artist objects.",
     "traceback": [
      "\u001b[0;31m---------------------------------------------------------------------------\u001b[0m",
      "\u001b[0;31mRuntimeError\u001b[0m                              Traceback (most recent call last)",
      "\u001b[0;32m<ipython-input-9-22f00ba3e5c5>\u001b[0m in \u001b[0;36m<module>\u001b[0;34m\u001b[0m\n\u001b[1;32m     22\u001b[0m \u001b[0;31m# anim.save(\"c03.gif\", writer=\"imagemagick\")\u001b[0m\u001b[0;34m\u001b[0m\u001b[0;34m\u001b[0m\u001b[0;34m\u001b[0m\u001b[0m\n\u001b[1;32m     23\u001b[0m \u001b[0;31m# plt.close()\u001b[0m\u001b[0;34m\u001b[0m\u001b[0;34m\u001b[0m\u001b[0;34m\u001b[0m\u001b[0m\n\u001b[0;32m---> 24\u001b[0;31m \u001b[0mHTML\u001b[0m\u001b[0;34m(\u001b[0m\u001b[0manim\u001b[0m\u001b[0;34m.\u001b[0m\u001b[0mto_html5_video\u001b[0m\u001b[0;34m(\u001b[0m\u001b[0;34m)\u001b[0m\u001b[0;34m)\u001b[0m\u001b[0;34m\u001b[0m\u001b[0;34m\u001b[0m\u001b[0m\n\u001b[0m\u001b[1;32m     25\u001b[0m \u001b[0;34m\u001b[0m\u001b[0m\n",
      "\u001b[0;32m~/anaconda3/lib/python3.7/site-packages/matplotlib/animation.py\u001b[0m in \u001b[0;36mto_html5_video\u001b[0;34m(self, embed_limit)\u001b[0m\n\u001b[1;32m   1328\u001b[0m                                 \u001b[0mbitrate\u001b[0m\u001b[0;34m=\u001b[0m\u001b[0mrcParams\u001b[0m\u001b[0;34m[\u001b[0m\u001b[0;34m'animation.bitrate'\u001b[0m\u001b[0;34m]\u001b[0m\u001b[0;34m,\u001b[0m\u001b[0;34m\u001b[0m\u001b[0;34m\u001b[0m\u001b[0m\n\u001b[1;32m   1329\u001b[0m                                 fps=1000. / self._interval)\n\u001b[0;32m-> 1330\u001b[0;31m                 \u001b[0mself\u001b[0m\u001b[0;34m.\u001b[0m\u001b[0msave\u001b[0m\u001b[0;34m(\u001b[0m\u001b[0mstr\u001b[0m\u001b[0;34m(\u001b[0m\u001b[0mpath\u001b[0m\u001b[0;34m)\u001b[0m\u001b[0;34m,\u001b[0m \u001b[0mwriter\u001b[0m\u001b[0;34m=\u001b[0m\u001b[0mwriter\u001b[0m\u001b[0;34m)\u001b[0m\u001b[0;34m\u001b[0m\u001b[0;34m\u001b[0m\u001b[0m\n\u001b[0m\u001b[1;32m   1331\u001b[0m                 \u001b[0;31m# Now open and base64 encode.\u001b[0m\u001b[0;34m\u001b[0m\u001b[0;34m\u001b[0m\u001b[0;34m\u001b[0m\u001b[0m\n\u001b[1;32m   1332\u001b[0m                 \u001b[0mvid64\u001b[0m \u001b[0;34m=\u001b[0m \u001b[0mbase64\u001b[0m\u001b[0;34m.\u001b[0m\u001b[0mencodebytes\u001b[0m\u001b[0;34m(\u001b[0m\u001b[0mpath\u001b[0m\u001b[0;34m.\u001b[0m\u001b[0mread_bytes\u001b[0m\u001b[0;34m(\u001b[0m\u001b[0;34m)\u001b[0m\u001b[0;34m)\u001b[0m\u001b[0;34m\u001b[0m\u001b[0;34m\u001b[0m\u001b[0m\n",
      "\u001b[0;32m~/anaconda3/lib/python3.7/site-packages/matplotlib/animation.py\u001b[0m in \u001b[0;36msave\u001b[0;34m(self, filename, writer, fps, dpi, codec, bitrate, extra_args, metadata, extra_anim, savefig_kwargs, progress_callback)\u001b[0m\n\u001b[1;32m   1137\u001b[0m                 \u001b[0;32mfor\u001b[0m \u001b[0manim\u001b[0m \u001b[0;32min\u001b[0m \u001b[0mall_anim\u001b[0m\u001b[0;34m:\u001b[0m\u001b[0;34m\u001b[0m\u001b[0;34m\u001b[0m\u001b[0m\n\u001b[1;32m   1138\u001b[0m                     \u001b[0;31m# Clear the initial frame\u001b[0m\u001b[0;34m\u001b[0m\u001b[0;34m\u001b[0m\u001b[0;34m\u001b[0m\u001b[0m\n\u001b[0;32m-> 1139\u001b[0;31m                     \u001b[0manim\u001b[0m\u001b[0;34m.\u001b[0m\u001b[0m_init_draw\u001b[0m\u001b[0;34m(\u001b[0m\u001b[0;34m)\u001b[0m\u001b[0;34m\u001b[0m\u001b[0;34m\u001b[0m\u001b[0m\n\u001b[0m\u001b[1;32m   1140\u001b[0m                 \u001b[0mframe_number\u001b[0m \u001b[0;34m=\u001b[0m \u001b[0;36m0\u001b[0m\u001b[0;34m\u001b[0m\u001b[0;34m\u001b[0m\u001b[0m\n\u001b[1;32m   1141\u001b[0m                 \u001b[0;31m# TODO: Currently only FuncAnimation has a save_count\u001b[0m\u001b[0;34m\u001b[0m\u001b[0;34m\u001b[0m\u001b[0;34m\u001b[0m\u001b[0m\n",
      "\u001b[0;32m~/anaconda3/lib/python3.7/site-packages/matplotlib/animation.py\u001b[0m in \u001b[0;36m_init_draw\u001b[0;34m(self)\u001b[0m\n\u001b[1;32m   1730\u001b[0m         \u001b[0;31m# artists.\u001b[0m\u001b[0;34m\u001b[0m\u001b[0;34m\u001b[0m\u001b[0;34m\u001b[0m\u001b[0m\n\u001b[1;32m   1731\u001b[0m         \u001b[0;32mif\u001b[0m \u001b[0mself\u001b[0m\u001b[0;34m.\u001b[0m\u001b[0m_init_func\u001b[0m \u001b[0;32mis\u001b[0m \u001b[0;32mNone\u001b[0m\u001b[0;34m:\u001b[0m\u001b[0;34m\u001b[0m\u001b[0;34m\u001b[0m\u001b[0m\n\u001b[0;32m-> 1732\u001b[0;31m             \u001b[0mself\u001b[0m\u001b[0;34m.\u001b[0m\u001b[0m_draw_frame\u001b[0m\u001b[0;34m(\u001b[0m\u001b[0mnext\u001b[0m\u001b[0;34m(\u001b[0m\u001b[0mself\u001b[0m\u001b[0;34m.\u001b[0m\u001b[0mnew_frame_seq\u001b[0m\u001b[0;34m(\u001b[0m\u001b[0;34m)\u001b[0m\u001b[0;34m)\u001b[0m\u001b[0;34m)\u001b[0m\u001b[0;34m\u001b[0m\u001b[0;34m\u001b[0m\u001b[0m\n\u001b[0m\u001b[1;32m   1733\u001b[0m \u001b[0;34m\u001b[0m\u001b[0m\n\u001b[1;32m   1734\u001b[0m         \u001b[0;32melse\u001b[0m\u001b[0;34m:\u001b[0m\u001b[0;34m\u001b[0m\u001b[0;34m\u001b[0m\u001b[0m\n",
      "\u001b[0;32m~/anaconda3/lib/python3.7/site-packages/matplotlib/animation.py\u001b[0m in \u001b[0;36m_draw_frame\u001b[0;34m(self, framedata)\u001b[0m\n\u001b[1;32m   1756\u001b[0m         \u001b[0;32mif\u001b[0m \u001b[0mself\u001b[0m\u001b[0;34m.\u001b[0m\u001b[0m_blit\u001b[0m\u001b[0;34m:\u001b[0m\u001b[0;34m\u001b[0m\u001b[0;34m\u001b[0m\u001b[0m\n\u001b[1;32m   1757\u001b[0m             \u001b[0;32mif\u001b[0m \u001b[0mself\u001b[0m\u001b[0;34m.\u001b[0m\u001b[0m_drawn_artists\u001b[0m \u001b[0;32mis\u001b[0m \u001b[0;32mNone\u001b[0m\u001b[0;34m:\u001b[0m\u001b[0;34m\u001b[0m\u001b[0;34m\u001b[0m\u001b[0m\n\u001b[0;32m-> 1758\u001b[0;31m                 raise RuntimeError('The animation function must return a '\n\u001b[0m\u001b[1;32m   1759\u001b[0m                                    'sequence of Artist objects.')\n\u001b[1;32m   1760\u001b[0m             self._drawn_artists = sorted(self._drawn_artists,\n",
      "\u001b[0;31mRuntimeError\u001b[0m: The animation function must return a sequence of Artist objects."
     ]
    }
   ],
   "source": [
    "# https://qiita.com/osanshouo/items/3c66781f41884694838b\n",
    "import matplotlib.pyplot as plt\n",
    "from matplotlib import animation, rc\n",
    "from IPython.display import HTML\n",
    "\n",
    "import numpy as np\n",
    "%matplotlib inline\n",
    "\n",
    "fig = plt.figure()\n",
    "ax = fig.add_subplot(111, aspect=1)\n",
    "\n",
    "theta = np.linspace(0, 2*np.pi, 128)\n",
    "\n",
    "def update(f):\n",
    "    ax.cla() # ax をクリア\n",
    "    ax.grid()\n",
    "    ax.plot(np.cos(theta), np.sin(theta), c=\"gray\")\n",
    "    ax.plot(np.cos(f), np.sin(f), \"o\", c=\"red\")\n",
    "\n",
    "anim = FuncAnimation(fig, update, frames=np.pi*np.arange(0,2,0.25), interval=200)\n",
    "\n",
    "# anim.save(\"c03.gif\", writer=\"imagemagick\")\n",
    "# plt.close()\n",
    "HTML(anim.to_html5_video())\n",
    "\n"
   ]
  },
  {
   "cell_type": "code",
   "execution_count": 8,
   "metadata": {},
   "outputs": [
    {
     "output_type": "execute_result",
     "data": {
      "text/plain": [
       "<matplotlib.animation.FuncAnimation at 0x7fb64a37c890>"
      ],
      "text/html": "<video width=\"432\" height=\"288\" controls autoplay loop>\n  <source type=\"video/mp4\" src=\"data:video/mp4;base64,AAAAIGZ0eXBNNFYgAAACAE00ViBpc29taXNvMmF2YzEAAAAIZnJlZQAAHg9tZGF0AAACrgYF//+q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\nJal0b28AAAAdZGF0YQAAAAEAAAAATGF2ZjU4LjQ1LjEwMA==\n\">\n  Your browser does not support the video tag.\n</video>"
     },
     "metadata": {},
     "execution_count": 8
    }
   ],
   "source": [
    "rc('animation', html='html5')\n",
    "anim"
   ]
  },
  {
   "cell_type": "code",
   "execution_count": null,
   "metadata": {},
   "outputs": [],
   "source": []
  }
 ]
}