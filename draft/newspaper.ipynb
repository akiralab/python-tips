{
 "cells": [
  {
   "cell_type": "markdown",
   "metadata": {},
   "source": [
    "# [newspaper]\n",
    "\n",
    "### 概要\n",
    "- 記事をスクレイピングするためのライブラリ\n",
    "\n",
    "### 使い方\n",
    "- サイトのトップページから複数のページをまとめて取得する\n",
    "\n",
    "### 参考\n",
    "- https://github.com/codelucas/newspaper\n",
    "- [Pythonでスクレイピングによるニュース記事の取得と保存(CSVデータ)\n",
    "](https://ai-inter1.com/webscraping_newspaper_2/)"
   ]
  },
  {
   "cell_type": "code",
   "execution_count": 1,
   "metadata": {},
   "outputs": [],
   "source": [
    "import numpy as np\n",
    "import matplotlib.pyplot as plt\n",
    "import pandas as pd\n",
    "import seaborn as sns"
   ]
  },
  {
   "cell_type": "markdown",
   "metadata": {},
   "source": [
    "### newspaperをimportする"
   ]
  },
  {
   "cell_type": "code",
   "execution_count": 29,
   "metadata": {},
   "outputs": [],
   "source": [
    "# !pip3 install newspaper3k\n",
    "import newspaper\n",
    "\n",
    "# 必要ライブラリのインストール\n",
    "# https://github.com/codelucas/newspaper/blob/master/requirements.txt"
   ]
  },
  {
   "cell_type": "markdown",
   "metadata": {},
   "source": [
    "### CNNのサイトから記事を収集する\n",
    "- 一度buildすると、一定時間buildできない可能性あり"
   ]
  },
  {
   "cell_type": "code",
   "execution_count": 40,
   "metadata": {},
   "outputs": [],
   "source": [
    "cnn_paper = newspaper.build('http://cnn.com')"
   ]
  },
  {
   "cell_type": "code",
   "execution_count": 41,
   "metadata": {},
   "outputs": [],
   "source": [
    "for article in cnn_paper.articles:\n",
    "    print(article.url)\n",
    "    print(article.title)"
   ]
  },
  {
   "cell_type": "code",
   "execution_count": 36,
   "metadata": {},
   "outputs": [
    {
     "name": "stdout",
     "output_type": "stream",
     "text": [
      "572\n"
     ]
    }
   ],
   "source": [
    "print(cnn_paper.size())"
   ]
  },
  {
   "cell_type": "code",
   "execution_count": null,
   "metadata": {},
   "outputs": [],
   "source": []
  },
  {
   "cell_type": "code",
   "execution_count": null,
   "metadata": {},
   "outputs": [],
   "source": []
  },
  {
   "cell_type": "code",
   "execution_count": 16,
   "metadata": {},
   "outputs": [],
   "source": [
    "article.download()"
   ]
  },
  {
   "cell_type": "code",
   "execution_count": 18,
   "metadata": {},
   "outputs": [],
   "source": [
    "# article.html\n",
    "article.parse()"
   ]
  },
  {
   "cell_type": "code",
   "execution_count": 19,
   "metadata": {},
   "outputs": [
    {
     "data": {
      "text/plain": [
       "[]"
      ]
     },
     "execution_count": 19,
     "metadata": {},
     "output_type": "execute_result"
    }
   ],
   "source": [
    "article.authors"
   ]
  },
  {
   "cell_type": "code",
   "execution_count": 20,
   "metadata": {},
   "outputs": [
    {
     "data": {
      "text/plain": [
       "datetime.datetime(2013, 12, 30, 0, 0)"
      ]
     },
     "execution_count": 20,
     "metadata": {},
     "output_type": "execute_result"
    }
   ],
   "source": [
    "article.publish_date"
   ]
  },
  {
   "cell_type": "code",
   "execution_count": 21,
   "metadata": {},
   "outputs": [
    {
     "data": {
      "text/plain": [
       "'By Leigh Ann Caldwell\\n\\nWASHINGTON (CNN) — Not everyone subscribes to a New Year’s resolution, but Americans will be required to follow new laws in 2014.\\n\\nSome 40,000 measures taking effect range from sweeping, national mandates under Obamacare to marijuana legalization in Colorado, drone prohibition in Illinois and transgender protections in California.\\n\\nAlthough many new laws are controversial, they made it through legislatures, public referendum or city councils and represent the shifting composition of American beliefs.\\n\\nFederal: Health care, of course, and vending machines\\n\\nThe biggest and most politically charged change comes at the federal level with the imposition of a new fee for those adults without health insurance.\\n\\nFor 2014, the penalty is either $95 per adult or 1% of family income, whichever results in a larger fine.\\n\\nThe Obamacare, of Affordable Care Act, mandate also requires that insurers cover immunizations and some preventive care.\\n\\nAdditionally, millions of poor Americans will receive Medicaid benefits starting January 1.\\n\\nThousands of companies will have to provide calorie counts for products sold in vending machines.\\n\\nLocal: Guns, family leave and shark fins\\n\\nConnecticut: While no national legislation was approved to tighten gun laws a year after the Newtown school shooting, Connecticut is implementing a final round of changes to its books: All assault weapons and large capacity magazines must be registered.\\n\\nOregon: Family leave in Oregon has been expanded to allow eligible employees two weeks of paid leave to handle the death of a family member.\\n\\nCalifornia: Homeless youth are eligible to receive food stamps. The previous law had a minimum wage requirement.\\n\\nDelaware: Delaware is the latest in a growing number of states where residents can no longer possess, sell or distribute shark fins, which is considered a delicacy in some East Asian cuisine.\\n\\nIllinois and drones\\n\\nIllinois: passed two laws limiting the use of drones. One prohibits them from interfering with hunters and fisherman. The measure passed after the group People for the Ethical Treatment of Animals said it would use drones to monitor hunters. PETA said it aims through its “air angels” effort to protect against “cruel” and “illegal” hunting.\\n\\nAlso in Illinois, another law prohibits the use of drones for law enforcement without a warrant.\\n\\nGender and voting identity\\n\\nCalifornia: Students can use bathrooms and join school athletic teams “consistent with their gender identity,” even if it’s different than their gender at birth.\\n\\nArkansas: The state becomes the latest state requiring voters show a picture ID at the voting booth.\\n\\nMinimum wage and former felon employment\\n\\nWorkers in 13 states and four cities will see increases to the minimum wage.\\n\\nWhile most amount to less than 15 cents per hour, workers in places like New Jersey, and Connecticut.\\n\\nNew Jersey residents voted to raise the state’s minimum wage by $1 to $8.25 per hour. And in Connecticut, lawmakers voted to raise it between 25 and 75 cents to $8.70. The wage would go up to $8 in Rhode Island and New York.\\n\\nCalifornia is also raising its minimum wage to $9 per hour, but workers must wait until July to see the addition.\\n\\nRhode Island: It is the latest state to prohibit employers from requiring job applicants to signify if they have a criminal record on a job application.\\n\\nSocial media and pot\\n\\nOregon: Employers and schools can’t require a job or student applicant to provide passwords to social media accounts.\\n\\nColorado: Marijuana becomes legal in the state for buyers over 21 at a licensed retail dispensary.\\n\\n(Sourcing: much of this list was obtained from the National Conference of State Legislatures).'"
      ]
     },
     "execution_count": 21,
     "metadata": {},
     "output_type": "execute_result"
    }
   ],
   "source": [
    "article.text"
   ]
  },
  {
   "cell_type": "code",
   "execution_count": 22,
   "metadata": {},
   "outputs": [
    {
     "data": {
      "text/plain": [
       "'http://fox13now.com/apple-touch-icon.png'"
      ]
     },
     "execution_count": 22,
     "metadata": {},
     "output_type": "execute_result"
    }
   ],
   "source": [
    "article.top_image"
   ]
  },
  {
   "cell_type": "code",
   "execution_count": 26,
   "metadata": {},
   "outputs": [
    {
     "name": "stderr",
     "output_type": "stream",
     "text": [
      "[nltk_data] Downloading package punkt to\n",
      "[nltk_data]     /Users/akirakawai/nltk_data...\n",
      "[nltk_data]   Unzipping tokenizers/punkt.zip.\n"
     ]
    }
   ],
   "source": [
    "# !pip install --user -U nltk\n",
    "import nltk\n",
    "nltk.download('punkt')\n",
    "article.nlp()"
   ]
  },
  {
   "cell_type": "code",
   "execution_count": 27,
   "metadata": {},
   "outputs": [
    {
     "data": {
      "text/plain": [
       "['obamacare',\n",
       " 'national',\n",
       " 'minimum',\n",
       " 'laws',\n",
       " 'family',\n",
       " 'state',\n",
       " 'drones',\n",
       " 'guns',\n",
       " 'leave',\n",
       " 'states',\n",
       " 'law',\n",
       " 'latest',\n",
       " 'wage',\n",
       " 'pot']"
      ]
     },
     "execution_count": 27,
     "metadata": {},
     "output_type": "execute_result"
    }
   ],
   "source": [
    "article.keywords"
   ]
  },
  {
   "cell_type": "code",
   "execution_count": 28,
   "metadata": {},
   "outputs": [
    {
     "data": {
      "text/plain": [
       "'Oregon: Family leave in Oregon has been expanded to allow eligible employees two weeks of paid leave to handle the death of a family member.\\nArkansas: The state becomes the latest state requiring voters show a picture ID at the voting booth.\\nMinimum wage and former felon employmentWorkers in 13 states and four cities will see increases to the minimum wage.\\nNew Jersey residents voted to raise the state’s minimum wage by $1 to $8.25 per hour.\\nCalifornia is also raising its minimum wage to $9 per hour, but workers must wait until July to see the addition.'"
      ]
     },
     "execution_count": 28,
     "metadata": {},
     "output_type": "execute_result"
    }
   ],
   "source": [
    "article.summary"
   ]
  },
  {
   "cell_type": "markdown",
   "metadata": {},
   "source": [
    "### hotなキーワードを探す"
   ]
  },
  {
   "cell_type": "code",
   "execution_count": 42,
   "metadata": {},
   "outputs": [
    {
     "data": {
      "text/plain": [
       "['Calvin Ridley',\n",
       " 'Oil prices',\n",
       " \"International Women's Day 2022\",\n",
       " 'Tottenham',\n",
       " 'Knicks',\n",
       " 'School closings',\n",
       " 'Pasha Lee',\n",
       " 'San Marino',\n",
       " 'Dana Blumberg',\n",
       " 'Ivan Kuliak',\n",
       " 'Bill Cosby',\n",
       " 'Andrew Cuomo',\n",
       " 'Cavs',\n",
       " 'Illinois basketball',\n",
       " 'Manchester United',\n",
       " 'ACM Awards 2022',\n",
       " 'Lil Bo Weep',\n",
       " 'Outlander',\n",
       " 'AEW Revolution 2022',\n",
       " 'Jayson Tatum']"
      ]
     },
     "execution_count": 42,
     "metadata": {},
     "output_type": "execute_result"
    }
   ],
   "source": [
    "newspaper.hot()"
   ]
  },
  {
   "cell_type": "code",
   "execution_count": 45,
   "metadata": {},
   "outputs": [
    {
     "data": {
      "text/plain": [
       "['http://www.huffingtonpost.com',\n",
       " 'http://cnn.com',\n",
       " 'http://www.time.com',\n",
       " 'http://www.ted.com',\n",
       " 'http://pandodaily.com',\n",
       " 'http://www.cnbc.com',\n",
       " 'http://www.mlb.com',\n",
       " 'http://www.pcmag.com',\n",
       " 'http://www.foxnews.com',\n",
       " 'http://theatlantic.com']"
      ]
     },
     "execution_count": 45,
     "metadata": {},
     "output_type": "execute_result"
    }
   ],
   "source": [
    "newspaper.popular_urls()[:10]"
   ]
  },
  {
   "cell_type": "markdown",
   "metadata": {},
   "source": [
    "### 試しに日経新聞をスクレイピングしてみる"
   ]
  },
  {
   "cell_type": "code",
   "execution_count": null,
   "metadata": {},
   "outputs": [],
   "source": [
    "url = \"https://www.nikkei.com/technology/ai/\""
   ]
  },
  {
   "cell_type": "code",
   "execution_count": 47,
   "metadata": {},
   "outputs": [],
   "source": [
    "website = newspaper.build(url)"
   ]
  },
  {
   "cell_type": "code",
   "execution_count": 48,
   "metadata": {},
   "outputs": [
    {
     "name": "stdout",
     "output_type": "stream",
     "text": [
      "記事[0]: https://www.fox13now.com/news/local-news : Would you like to receive local news notifications on your desktop?\n",
      "Yes pleaseNot now\n",
      "\n",
      "記事[1]: https://www.fox13now.com/news/national-news : Would you like to receive local news notifications on your desktop?\n",
      "Yes pleaseNot now\n",
      "\n",
      "記事[2]: https://www.fox13now.com/news/3-questions : Would you like to receive local news notifications on your desktop?\n",
      "Yes pleaseNot now\n",
      "\n",
      "記事[3]: https://www.fox13now.com/news/booming-forward : Would you like to receive local news notifications on your desktop?\n",
      "Yes pleaseNot now\n",
      "\n",
      "記事[4]: https://www.fox13now.com/news/car-critic : Would you like to receive local news notifications on your desktop?\n",
      "Yes pleaseNot now\n",
      "\n",
      "記事[5]: https://www.fox13now.com/news/health : Would you like to receive local news notifications on your desktop?\n",
      "Yes pleaseNot now\n",
      "\n",
      "記事[6]: https://www.fox13now.com/news/politics : Would you like to receive local news notifications on your desktop?\n",
      "Yes pleaseNot now\n",
      "\n",
      "記事[7]: https://www.fox13now.com/news/positively-utah : Positively UtahPositively Utah covers the stories of good people making things better in our community, and give a true reflection of life in the Beehive State, not just what’s wrong, but what’s right.\n",
      "\n",
      "記事[8]: https://www.fox13now.com/news/technology : Would you like to receive local news notifications on your desktop?\n",
      "Yes pleaseNot now\n",
      "\n",
      "記事[9]: https://www.fox13now.com/news/uniquely-utah : Would you like to receive local news notifications on your desktop?\n",
      "Yes pleaseNot now\n",
      "\n",
      "記事[10]: https://www.fox13now.com/news/whats-in-the-basement : Would you like to receive local news notifications on your desktop?\n",
      "Yes pleaseNot now\n",
      "\n",
      "記事[11]: https://www.fox13now.com/news/fox-13-investigates : Story Idea or TipsIf you have a story idea or tip for the FOX 13 Investigative unit, please share it with us below:\n",
      "\n",
      "記事[12]: https://www.fox13now.com/news/local-news/360 : Would you like to receive local news notifications on your desktop?\n",
      "Yes pleaseNot now\n",
      "\n",
      "記事[13]: https://www.fox13now.com/news/national-news/russia-ukraine-conflict : Would you like to receive local news notifications on your desktop?\n",
      "Yes pleaseNot now\n",
      "\n",
      "記事[14]: https://www.fox13now.com/news/zero-fatalities : Would you like to receive local news notifications on your desktop?\n",
      "Yes pleaseNot now\n",
      "\n",
      "記事[15]: https://www.fox13now.com/2015/06/23/be-a-guest-on-fox-13s-the-place : Sign up for the Breaking News Newsletter and receive up to date information.\n",
      "now signed up to receive the Breaking NewsNewsletter.\n",
      "Click here to manage all Newsletters\n",
      "\n",
      "記事[16]: https://www.fox13now.com/contests/nominate-someone-for-a-fox-13-dream-team-surprise : Sign up for the Breaking News Newsletter and receive up to date information.\n",
      "now signed up to receive the Breaking NewsNewsletter.\n",
      "Click here to manage all Newsletters\n",
      "\n",
      "記事[17]: https://www.fox13now.com/news/positively-utah/submit-your-beutahful-photos-and-well-share-them-on-fox-13 : Sign up for the Breaking News Newsletter and receive up to date information.\n",
      "now signed up to receive the Breaking NewsNewsletter.\n",
      "Click here to manage all Newsletters\n",
      "\n",
      "記事[18]: https://www.fox13now.com/news/national-news/two-americas : Scripps Media Inc. Two AmericasTwo Americas focuses on the many different sides to our country, the America you know and the one you might not.\n",
      "We go in-depth on why issues exist and the efforts to find solutions.\n",
      "\n",
      "記事[19]: https://www.facebook.com/dialog/share?app_id=765516083862087&display=popup&href=https://www.fox13now.com/2013/12/30/new-year-new-laws-obamacare-pot-guns-and-drones : シェアするにはFacebookアカウントにログインしてください 電話番号またはメールアドレスFacebookのパスワードまたは パスワードを忘れた場合\n",
      "\n",
      "記事[20]: https://www.fox13now.com/2013/12/30/new-year-new-laws-obamacare-pot-guns-and-drones : Oregon: Family leave in Oregon has been expanded to allow eligible employees two weeks of paid leave to handle the death of a family member.\n",
      "Arkansas: The state becomes the latest state requiring voters show a picture ID at the voting booth.\n",
      "Minimum wage and former felon employmentWorkers in 13 states and four cities will see increases to the minimum wage.\n",
      "New Jersey residents voted to raise the state’s minimum wage by $1 to $8.25 per hour.\n",
      "California is also raising its minimum wage to $9 per hour, but workers must wait until July to see the addition.\n",
      "\n",
      "記事[21]: https://www.fox13now.com/about-us/watch-fox-13-news-on-your-favorite-streaming-device-24-7?utm_source=website&utm_medium=local-promo-right-rail&utm_campaign=keeping-you-safe : SALT LAKE CITY — Not sitting in front of your television, but still want to watch FOX 13 News?\n",
      "You can now watch FOX 13 News in the mornings, afternoons and evenings on your favorite streaming device.\n",
      "All FOX 13 News broadcasts are streamed live on our channel which you can find on Roku, Amazon Fire TV, Android TV, and Apple TV.\n",
      "Just search \"FOX 13 Utah\" (with the space) on your device and download the channel.\n",
      "You'll also find all the great work of the FOX 13 Investigates team, along with our special FOX 13 News 360 features, Rebound stories and everything else you'll see on the news.\n",
      "\n",
      "記事[22]: https://www.fox13now.com/news/local-news/manslaughter-charged-filed-against-deputy-for-deadly-car-accident : PROVO, Utah — A manslaughter charge has been filed against a Utah County Sheriff's Deputy for his involvement in the March 2021 death of a BYU student in Provo.\n",
      "Sydney GlennMemorial for BYU student Joseph Spencer who was killed in an accident involving a Utah County sheriff's deputy.\n",
      "Due to a possible conflict of interest, Summit County Attorney Margaret Olsen was asked to review the matter and decide if the deputy should be charged.\n",
      "Utah County Attorney David Leavitt released the following statement Monday evening:\"I want to express my appreciation to the Summit County Attorney, Margaret Olson, for taking on this difficult case.\n",
      "The facts and evidence were then provided to the Summit County Attorney for a review of the evidence and a charging decision.\"\n",
      "\n",
      "記事[23]: https://www.fox13now.com/news/local-news/she-was-super-loving-family-remembers-15-year-old-hit-killed-by-car-in-lehi : LEHI, Utah — The family of a 15-year-old girl is grieving after she was hit and killed by a car Friday in Lehi.\n",
      "The family identified the victim as Arely Hernandez-Cuenca, a sophomore at Skyridge High School in Lehi.\n",
      "\"She was just super funny, she was super loving, she just literally made our house so light.\"\n",
      "She says Arely was ready for her junior year, so she could take college courses in high school.\n",
      "She still had to graduate high school, she had plans to go to college,\" Raquel said.\n",
      "\n",
      "記事[24]: https://www.fox13now.com/news/crime/murder-trial-begins-for-utah-man-accused-of-killing-teenage-couple-in-2017 : PROVO, Utah — The trial for a man accused of killing a young Eureka couple began Monday, over four years after their deaths.\n",
      "It’s been a long time waiting,” said Amanda Davis, Breezy Otteson's aunt.\n",
      "“I wish the death penalty was still on the table,\" said Bill Powell, Riley Powell's father.\n",
      "Originally, the Utah County Attorney said he planned to seek the death penalty, but then he changed his mind.\n",
      "WATCH: Families of murder victims react to Utah County death penalty announcement“Our families will continue to be meshed together and continue to just honor them,” Davis added.\n",
      "\n",
      "記事[25]: https://www.fox13now.com/weather/warnings-advisories-issued-along-wasatch-front-with-new-storm-approaching : SALT LAKE CITY — After a mild weather day across most of Utah, new warnings and advisories have been issued along the Wasatch Front as a new system approaches the northern part of the state.\n",
      "FULL LIST - All warnings, advisories issued for UtahA Winter Storm Warning covering the mountains north of Interstate 80 will go into effect at 5 a.m. Tuesday.\n",
      "Heavy snow is expected, with accumulations up to 18 inches with the most intense snowfall forecast Tuesday afternoon through Wednesday morning with the warning set to expire at 5 p.m.National Weather ServiceA similar warning issued for the mountains south of I-80 will begin at 11 a.m. Tuesday.\n",
      "LIVE RADAR - Track the storm with FOX 13s up-to-the-minute interactive radarNearly the remainder of north and northeast Utah will be under a Winter Weather Advisory that starts as early as 5 p.m. Tuesday in some locations and lasts until 5 p.m. Wednesday afternoon.\n",
      "Utah's Weather Authority | More storms coming - March 7The National Weather Service forecasts the benches in the Salt Lake, Tooele, Utah and Rush valleys to receive 2-to-5 inches of snow, with winter driving conditions expected Tuesday evening through the Wednesday morning commute.\n",
      "\n",
      "記事[26]: https://www.fox13now.com/news/local-news/salt-lake-gas-just-shy-of-4-per-gallon : NORTH SALT LAKE, Utah — As prices soar across the country, gas at one Salt Lake Valley station closed to within one-tenth of a penny short of reaching the vaunted $4 per gallon mark Monday.\n",
      "FOX 13 News reporter Scott McKane was reporting from the Maverik in North Salt Lake when the price of gallon of gas jumped a whopping 20-cents to $3.99.\n",
      "The move coincides with the national average price of regular gasoline breaking $4 per gallon on Sunday for the first time since 2008.\n",
      "While prices are rising in Utah, they are still way below the highest average price per gallon in California, which reached $5.29.\n",
      "Utah's highest recorded price for a regular gallon of gas was $4.22 set in July 2008.\n",
      "\n",
      "記事[27]: https://www.fox13now.com/news/local-news/teachers-students-create-classroom-surprise-for-roy-student : ROY, Utah — A Utah mother said her \"heart exploded with gratitude\" after seeing how teachers and classmates surprised her son at Roy Junior High School last week.\n",
      "Merrick Kinser, who was born with a rare genetic disorder called 1p36, is in his first year at the school.\n",
      "Carina Kinser, Merrick's mother, wrote that the room gives her 13-year-old son a \"safe and quiet place to learn.\"\n",
      "Rebecca Holley Merrick Kinser stands in front of the painting created by teachers and students at Roy Jr. High SchoolCarina said she was on the treadmill when she received the images and said she instantly started to cry.\n",
      "\"It is absolutely amazing how wonderful the teachers especially Mrs. Holley, her aides and now his peers have been to Merrick,\" wrote Carina.\n",
      "\n",
      "記事[28]: https://www.fox13now.com/news/coronavirus/local-coronavirus-news/utah-reports-543-new-covid-19-cases-over-the-weekend : SALT LAKE CITY — The Utah Department of Health on Monday reported 543 new cases of COVID-19 in the state over the weekend and nine new deaths.\n",
      "102 reported 3/6206 reported 3/5241 reported 3/4School-aged children accounted for 62 of the newly announced cases.\n",
      "31 cases in children ages 5-109 cases in children ages 11-1322 cases in children ages 14-17The rolling 7-day average for positive tests is 282 per day.\n",
      "The rolling 7-day average for percent positivity of \"people over people\" is 9.4%.\n",
      "The health department reported there are 261 people currently hospitalized with COVID-19 in Utah.\n",
      "\n",
      "記事[29]: https://www.fox13now.com/entertainment/popular-salt-lake-city-musical-festivals-announce-lineups : SALT LAKE CITY — Two of Salt Lake City's most popular music festivals officially released their lineups Monday.\n",
      "LoveLoud and the Twilight Concert Series will be held in the coming months at different venues in the Salt Lake area.\n",
      "Over the summer, the Twilight Concert Series is celebrating its 35th year and will feature numerous performers over three months at the Gallivan Center.\n",
      "Aug. 11 - The Decemberists, Brigid Mae PowerAug. 16 - CucoSept. 2 - Shakey Graves, Sierra Ferrell, Michelle Moonshine“Twilight has been an integral part of Salt Lake City for 35 years now, and we can’t wait to present this incredible season.\n",
      "Season tickets for the Twilight Concert Series are now on sale and can be found here, with $10 individual show tickets going on sale Tuesday.\n",
      "\n",
      "記事[30]: https://www.fox13now.com/news/national/russia-ukraine-conflict/3rd-round-of-talks-between-russia-ukraine-end-with-no-major-agreement : The third round of talks between Russian and Ukrainian officials lasted about three hours on Monday.\n",
      "Over the weekend, Ukraine accused Russia of not abiding by a ceasefire in areas where civilians were attempting to flee.\n",
      "Ukraine has also criticized Russia for humanitarian corridors that lead to Russia or Belarus.\n",
      "\"This is an unacceptable option for opening humanitarian corridors,\" Ukrainian Deputy Prime Minister Irina Vereshchuk said.\n",
      "The Ukrainian government is proposing eight humanitarian corridors, including from the southern port of Mariupol, that would allow civilians to travel to the western regions of Ukraine, where there is no Russian shelling.\n",
      "\n",
      "記事[31]: https://www.fox13now.com/news/local-news/fox-13-news-joins-collaborative-to-help-save-the-great-salt-lake : SALT LAKE CITY — The Great Salt Lake is dying, and the ramifications extend far beyond its muddy, shrinking shoreline.\n",
      "In 2021, the Great Salt Lake reached its lowest level on record.\n",
      "Because of this threat, FOX 13 News is proud to announce its participation in the Great Salt Lake Collaborative: a historic initiative involving 17 news organizations, educators, and nonprofits who have banded together to save the Great Salt Lake through solutions-based journalism.\n",
      "“All Utahns have a vested interest in saving the Great Salt Lake.”Supported by a grant from the Knight Foundation and sponsored by the Community Foundation of Utah, the Great Salt Lake Collaborative hopes to see the lake replenished before it is too late.\n",
      "The following organizations make up the Great Salt Lake Collaborative:\n",
      "\n",
      "記事[32]: https://www.fox13now.com/news/local-news/planned-utah-based-oil-rail-line-draws-colorado-opposition : DENVER (AP) — Dozens of Colorado counties and cities are opposing a Utah-based railroad project that would bring as many as 10 two-mile-long (3.2-kilometer-long) trains carrying oil through Denver each day.\n",
      "The railroad line would allow oil drilling operations in Utah’s northeastern Uinta Basin to send what they produce to refineries in Texas and Louisiana.\n",
      "Waxy crude solidifies at room temperature and must be heated to remain liquid.\n",
      "If the project advances, drilling companies could quadruple production up to 350,000 barrels of waxy crude a day.\n",
      "Forty-two Colorado cities, 11 counties and 20 water sanitation districts have expressed opposition to the project, asking U.S. Sens.\n",
      "\n",
      "記事[33]: https://www.fox13now.com/weather/between-storms-today-more-snow-on-the-way : We're getting a break between storms, so you can finish up the shoveling before we get more even more snow!\n",
      "Any light snow showers lingering over the mountains and south of the Great Salt Lake and Utah Lake will taper off today.\n",
      "The next storm will move in tomorrow and bring more snow through Wednesday.\n",
      "Otherwise, several inches are possible in the Northern Valleys.\n",
      "1-3 inches will be possible in the valleys south of Utah County.\n",
      "\n",
      "記事[34]: https://www.fox13now.com/news/nation-world/explainer-why-does-ukraine-need-foreign-warplanes : WHY DOES UKRAINE NEED WARPLANES?\n",
      "U.S.-made F-16s are becoming the mainstay of Poland's air force as it modernizes its military.\n",
      "Russia alleges that Romania and some other countries it didn't name are hosting Ukraine's warplanes.\n",
      "Despite its supportive stance toward Ukraine in its struggle, Warsaw is facing a crucial and challenging decision regarding making its planes available to Ukraine.\n",
      "Russia's words could be taken as a wider warning against aiding Ukraine's air forces.\n",
      "\n",
      "記事[35]: https://www.fox13now.com/news/local-news/crews-work-to-restore-power-to-utahns-after-snowstorm : MILLCREEK, Utah — The storm may have passed, but clean-up and power restoration has been an all-day effort Sunday along the Wasatch Front.\n",
      "Some 30,000 customers were without power at the height of the storm.\n",
      "Rocky Mountain Power crews have been working around the clock to handle the surge in demand.\n",
      "She says a firetruck showed up shortly after, along with power crews, and the power was restored within about an hour.\n",
      "If you need to report a downed power line or other power emergencies, call Rocky Mountain Power at 877-508-5088.\n",
      "\n",
      "記事[36]: https://www.fox13now.com/news/national-news/average-gas-price-tops-4-per-gallon-for-first-time-since-2008 : NEW YORK (AP) — The price of regular gasoline broke $4 per gallon on average across the U.S. on Sunday for the first time since 2008.\n",
      "During the first full week of Russia's invasion of Ukraine, the price of regular gas rose by almost 41 cents, according to the AAA motor club.\n",
      "That represents the second-largest jump in average national prices in a week, GasBuddy reported.\n",
      "The all-time high for average gasoline prices was set in July 17, 2008 at $4.10 per gallon.\n",
      "On Sunday, California had the highest average price per gallon among U.S. states at $5.29, while Missouri had the lowest at around $3.60.\n",
      "\n",
      "記事[37]: https://www.fox13now.com/news/local-news/utahns-sift-through-damage-debris-after-weekend-snowstorm : KEARNS, Utah — A weekend snowstorm brought heavy snow, slick roads and even some damage for some Utahns.\n",
      "READ: Storm lives up to billing as snow falls across UtahAmy Jo Talbot has lived in Kearns for the past 12 years.\n",
      "\"One that hit the house hit, and then we all came out here and noticed it hit the van, and yeah, smacked the ground.\"\n",
      "\"Big, huge, looked like a big ol' Christmas tree fell,\" she saidOther branches and debris covered almost her entire front yard.\n",
      "Later Sunday morning, Talbot received a little bit of help cleaning up her yard and getting the tree branches off her van.\n",
      "\n",
      "記事[38]: https://www.fox13now.com/sports/woods-goal-gives-real-salt-lake-snowy-1-0-win-over-sounders : SANDY, Utah (AP) — Bobby Wood scored soon after a two-hour lightning delay and Zac MacMath made it stand up with five saves as Real Salt Lake earned a 1-0 victory over the Seattle Sounders at snowy Rio Tinto Stadium on Saturday.\n",
      "Wood’s game-winner came in the 46th minute after the weather delay halted play with two minutes left before halftime.\n",
      "MacMath saved all five shots on goal he faced for RSL.\n",
      "Stefan Frei saved four of the five shots he faced for the Sounders.\n",
      "These teams take to the pitch again on March 13, with RSL visiting the New England Revolution while the Sounders host the LA Galaxy.\n",
      "\n",
      "記事[39]: https://www.fox13now.com/news/photo-galleries/snowstorm-slams-northern-utah : Snowstorm slams northern UtahCheck out some photos from around northern Utah following the overnight storm that dumped a bunch of snow.\n",
      "\n",
      "記事[40]: https://www.fox13now.com/news/local-news/minimal-crashes-in-the-wake-of-heavy-snow : SALT LAKE CITY — Despite the heavy snowfall hitting the state, the number of crashes on Utah's highways is lower than usual, with only 100 crashes as of 11:30 a.m. Sunday morning.\n",
      "Utah Highway Patrol attributes this to the lighter Sunday traffic, which means there are fewer drivers on the road.\n",
      "\"We've had just under 40 crashes from midnight and about 60 motorist assists,\" said UHP Trooper Tara Walhberg in a live interview on Sunday's edition of Good Day Utah.\n",
      "While the number of crashes is on the low side, UHP is still urging caution.\n",
      "In a tweet posted around 8:30 a.m. Sunday, they advise drivers to \"slow down and give yourself extra time.\"\n",
      "\n",
      "記事[41]: https://www.fox13now.com/news/local-news/storm-lives-up-to-billing-as-snow-falls-across-utah : SALT LAKE CITY — A weekend storm that brought warnings across most of the state lived up to its billing and then some.\n",
      "Heavy snow accumulation was found in both the valleys and mountains of northern Utah, with the snow continuing to fall Sunday morning.\n",
      "\"We are aware of scattered outages throughout Central Utah caused by the severe winter storm.\n",
      "Salt Lake City Police Department Tree branch stuck on utility line in Salt Lake CityPhotos sent to FOX 13 News showed tree damage in areas such as Kearns and West Jordan.\n",
      "\"Snow plows have a very difficult time getting around abandoned vehicles and in some cases can't plow the area.\"\n",
      "\n",
      "記事[42]: https://www.fox13now.com/news/local-news/salt-lake-county-sar-prepares-for-big-storm : COTTONWOOD HEIGHTS, Utah — With a major snowstorm hitting Saturday night through Sunday morning, the Salt Lake County Sheriff’s Search and Rescue team is ready.\n",
      "“A few days ago, it was beautiful, sunny, warm, 70 degrees,” said Wayne Bassham, a member of the team.\n",
      "“Well, we always expect people to be prepared,” Bassham said, “but you never can predict the future.”Bassham has been a part of the county search and rescue team for 12 and a half years.\n",
      "On Saturday, they were getting ready for extreme conditions, training and practicing lots of different snow rescue techniques.\n",
      "WATCH: Winter storm hitting Utah, expected to continue through late morning“[They were practicing] Snow anchors, also high angle/low angle, and skids… transporting patients on snow,\" Bassham said.\n",
      "\n",
      "記事[43]: https://www.fox13now.com/news/local-news/the-joy-of-reunion-ukrainians-fleeing-war-arrive-in-utah : Katya Kravchenko hadn't seen her mother in three years, ever since she moved to Utah to attend college.\n",
      "For a moment, Kravchenko and many Ukrainians across the Beehive State have wondered if they'd ever see their loved ones again.\n",
      "For Kravchenko, Osipenko and Voronetska, their loved ones have traveled from Kyiv to Poland or Hungary and eventually to Utah.\n",
      "UKRAINIANS ARRIVE: 12 Ukrainians arrived at the SLC Airport today, greeted by loved ones.\n",
      "Friends met her at the airport because her family wasn't with her.\n",
      "\n",
      "記事[44]: https://www.fox13now.com/news/local-news/man-with-dementia-missing-after-likely-driving-to-west-jordan-grocery-store : ________________WEST JORDAN, Utah — Police are asking for the public's help in finding a missing West Jordan man with dementia.\n",
      "He was last seen Saturday around noon in the area of 9100 South and 5100 West.\n",
      "Officials say Odenwalder was driving to the grocery store — possibly the Smith's at either 4000 West and 9000 South, or 5600 West and 7000 South.\n",
      "Odenwalder is described as a white man, 5'11\", 160 pounds, with gray hair and blue eyes.\n",
      "He was last seen wearing blue jeans, a plaid shirt, a gray hoodie, and a gold watch with the Kennecott logo in the center.\n",
      "\n",
      "記事[45]: https://www.fox13now.com/news/local-news/man-dies-after-industrial-accident-at-magnesium-plant-in-tooele-county : TOOELE COUNTY, Utah — A man died Saturday after an industrial accident at a Utah magnesium plant.\n",
      "The accident occurred around 8:20 a.m. at U.S. Magnesium, located in the West Desert near the southeast shore of the Great Salt Lake.\n",
      "The Tooele County Sheriff's Office said the man — a 61-year-old whose name has not been released — died from his injuries sustained in the accident.\n",
      "Officials were not able to provide any further details on the accident, but they plan to provide an update Monday.\n",
      "The sheriff's office is assisting.\n",
      "\n",
      "記事[46]: https://www.fox13now.com/weather/rain-snow-lightning-and-more-hits-utah : Winter Weather Advisories are in place Saturday night through Sunday morning for most of northern and central Utah, and some areas have been upgraded to a Winter Storm Warning, which is more severe.\n",
      "The Salt Lake Valley and Tooele Valley are on \"Warning\" status through Sunday at 11 a.m.\n",
      "NEW: A Winter Storm Warning has been issued for the Salt Lake & Tooele Valleys until 11am Sunday.\n",
      "Through the night, however, a cold front is expected to drop the snow levels to the valleys with about 1-4 inches possible.\n",
      "Hail, lightning and thunder were seen in much of the southern and southwestern portions of the Salt Lake Valley early in the evening.\n",
      "\n",
      "記事[47]: https://www.fox13now.com/news/local-news/man-found-dead-on-redwood-road-after-being-hit-by-vehicle : WEST VALLEY CITY, Utah — Police say a man was found dead early Saturday morning on a street in West Valley City.\n",
      "Around 1 a.m., officers responded to a report of a man laying on the ground in the northbound lanes of Redwood Road, at about 2770 South.\n",
      "Officers confirmed that the 39-year-old man, whose name has not been released, was dead at the scene.\n",
      "READ: One teen dead, one hospitalized after being hit by car in LehiA driver later returned to the area and told police they had hit the man, but said he was already laying in the road and they didn't see him in the dark.\n",
      "It is not known at this time whether the man died after being hit or if he was already deceased.\n",
      "\n",
      "記事[48]: https://www.fox13now.com/news/national/russia-ukraine-conflict/state-department-recommends-americans-leave-russia-immediately : WASHINGTON — The U.S. State Department has updated an earlier travel advisory and is now recommending that U.S. citizens leave Russia immediately.\n",
      "The notice offers this guidance: “If you wish to depart Russia, you should make arrangements on your own as soon as possible.\n",
      "If you plan to stay in Russia, understand the U.S. Embassy has severe limitations on its ability to assist U.S. citizens, and conditions, including transportation options, may change suddenly.”The department already has advised Americans not to travel to Russia.\n",
      "That warning cites “the unprovoked and unjustified attack by Russian military forces in Ukraine” and “the potential for harassment against U.S. citizens by Russian government security officials,” among other things.\n",
      "The American ambassador in Moscow, John Sullivan, has scheduled a virtual town hall on Wednesday for U.S. citizens in Russia “in light of the rapidly developing situation” from the Russian invasion.\n",
      "\n",
      "記事[49]: https://www.fox13now.com/news/local-news/all-the-things-the-2022-utah-state-legislature-did-to-your-life : The legislature passed a bill to remove the recommendation on whether a judge be retained on the ballot.\n",
      "Transportation -Penalties have been enhanced for people who speed over 100 miles per hour under a bill passed by Sen. Jani Iwamoto.\n",
      "More tax incentives were shifted to rural Utah under a bill passed in the legislature.\n",
      "Rural areas could see more benefits from “transient room taxes” collected from hotels under bills the legislature passed.\n",
      "More regulations were put on “troubled teen” facilities under a bill passed by Sen. Mike McKell.\n",
      "\n",
      "記事[50]: https://www.fox13now.com/news/politics/cox-says-hell-veto-bill-banning-transgender-children-from-sports-if-passed : SALT LAKE CITY — Governor Spencer Cox has promised a veto of a bill that seemingly had compromise on the issue of transgender children playing school sports, then suddenly switched to an all-out ban.\n",
      "The bill proposed to create a special commission to evaluate the eligibility of transgender children who sought to play sports in middle and high schools.\n",
      "It would remove evaluating transgender children based on physical characteristics.\n",
      "In the House, bill sponsor Rep. Kera Birkeland, R-Morgan, urged support for the Senate's version of the bill.\n",
      "Cox began to cry as he addressed transgender children in Utah.\n",
      "\n",
      "記事[51]: https://www.fox13now.com/news/local-news/teens-hospitalized-after-being-hit-by-car-in-lehi : LEHI, Utah — One of two teens who were struck by a vehicle in Lehi Friday afternoon has died.\n",
      "READ: Utah boy dies after being hit by car while riding scooterThe driver cooperated with police following the accident.\n",
      "Olson said bystanders jumped in to help the teens after the accident.\n",
      "\"They’re rushing across the street — a busy street at that — at 2100 North here to help people that they don’t know, and so I'm grateful for them,\" he said.\n",
      "A GoFundMe page has been set up for the family of the girl killed in the accident to help pay for funeral expenses.\n",
      "\n",
      "記事[52]: https://www.fox13now.com/news/national-news/russia-ukraine-conflict/orem-dance-studio-to-use-fancy-footwork-to-raise-money-for-ukraine : OREM, Utah — With many of the world's top ballroom dancers from Ukraine, a ballroom dance studio in Orem had an idea of how to help those suffering during the current Russian invasion.\n",
      "“Ballroom dance is a huge a huge thing for Ukrainians,” said Cheyenne Murillo.\n",
      "Next week, Strictly Ballroom in Orem is hosting a training camp before the national championships.\n",
      "As those dancing continue to rehearse, Murillo's hope is the art of ballroom dance can provide a little light during a dark time for those in need.\n",
      "“If they're Ukrainian, Russian, American, that they can all, you know, be together and dance together and be friends,\" she said.\n",
      "\n",
      "記事[53]: https://www.fox13now.com/news/local-news/city-of-lehi-can-no-longer-collect-impact-fees-for-internal-adus : To offset those costs, the city of Lehi has been collecting impact fees to the tune of nearly $5,000 for those who want to convert their basements into apartments.\n",
      "Under a bill just passed by the state legislature, House Bill 462, they can no longer collect those fees.\n",
      "\"The problem is now if no one is paying impact fees, that has to come from the existing citizens.\"\n",
      "Chris Gamvroulas, the president of Ivory Development, says they built three homes with internal ADUs in Midvale as a test case.\n",
      "The Lehi City Council will deliberate next week whether to increase utility rates or property taxes if needed to make up for the loss of revenue from impact fees.\n",
      "\n",
      "記事[54]: https://www.fox13now.com/news/local-news/cox-to-sign-law-keeping-some-police-statements-secret : SALT LAKE CITY — Some police statements made during internal investigations into shootings and other high-profile incidents will no longer be accessible to the public under a law that Utah Republican Gov.\n",
      "Cox told The Associated Press on Friday that he will sign a bill that cleared the Legislature with bipartisan support but little public debate on Thursday.\n",
      "Made by police and other public employees during internal investigations, Garrity statements cannot be used during criminal proceedings, but employers can require them to make those statements.\n",
      "Cox, for his part, said he wasn’t familiar with that Petito report.\n",
      "But he also pointed to the bipartisan, unanimous vote in the Utah Senate as a sign the bill had broad support.\n",
      "\n",
      "記事[55]: https://www.fox13now.com/sports/real-salt-lake-unveils-some-new-features-ahead-of-home-opener : SANDY, Utah — Real Salt Lake's first home game of the 2022 MLS season is Saturday, and fans can expect some new sights and features at Rio Tinto Stadium.\n",
      "Team captain Damir Kreilach donated 100 tickets to underprivileged kids, who will sit in a section now called \"Kreilach's Corner.\"\n",
      "The team's ownership pitched in 200 tickets, and Salt Lake City-based design company Infinite Scale added 100 more.\n",
      "Those tickets will be given to underprivileged kids every home game this season, RSL President John Kimball said.\n",
      "The club is also introducing and working on some new \"interactive\" features, Kimball said.\n",
      "\n",
      "記事[56]: https://www.fox13now.com/news/local-news/ogden-doctor-accused-of-faking-hypothermia-to-get-airlifted-off-mountain-pleads-guilty : FAIRBANKS, Alaska — An Ogden doctor pleaded guilty Friday after being accused of faking hypothermia so that he could be airlifted off an Alaskan mountain last May.\n",
      "Court documents claimed Lance, a radiologist with the Ogden Clinic, originally used the satellite device on May 24 to get evacuated off Denali after abandoning a summit attempt.\n",
      "Lance later rejoined the group after abandoning his own attempt to summit the mountain.\n",
      "laying motionless after his fall, Lance sent an SOS using the satellite device.\n",
      "The charge Lance plead guilty to was disregarding the ranger's plea to hand over the device.\n",
      "\n",
      "記事[57]: https://www.fox13now.com/news/politics/lee-leads-group-threatening-government-funding-holdup-if-federal-vaccine-mandates-continue : WASHINGTON — Utah Sen. Mike Lee is leading a group of 10 Republican senators threatening to uphold a government funding bill if federal vaccine mandates are allowed to continue.\n",
      "In a letter Friday, the senators ask for the chance to vote on an amendment to \"defund the enforcement of remaining federal vaccine mandates on government contractors, members of the military, all other federal employees, and medical care providers.\"\n",
      "The senators want the vote to occur before a March 11 deadline to pass the funding bill, according to Yahoo!\n",
      "“These COVID-19 vaccine mandates amount to a serious abuse of both federal power and executive authority.\n",
      "\"We invite you to stand with us and oppose the continued funding of these mandates.\"\n",
      "\n",
      "記事[58]: https://www.fox13now.com/weather/track-the-timing-and-expected-snowfall-totals-of-this-weekends-storm : SALT LAKE CITY — After a relatively dry February, northern Utah is set to get walloped by a weekend storm bringing heavy amounts of snow and rain.\n",
      "The rain and mountain snow are expected to taper off during the evening.\n",
      "Any additional precipitation would come overnight in the mountains of northern Utah.\n",
      "National Weather Service Map produced by the National Weather Service shows forecast snowfall totals throughout the weekend.\n",
      "On Sunday, the NWS forecasts snow to be primarily focused along the northern Utah boundary with southwest Wyoming.\n",
      "\n",
      "記事[59]: https://www.fox13now.com/news/local-news/gas-leak-forces-evacuation-of-millcreek-homes : MILLCREEK, Utah — A punctured gas line forced the evacuation of several homes in a Millcreek neighborhood Friday.\n",
      "Unified Fire said the gas leak, which was located near 3100 South Highland Drive, was started when the line was accidentally punctured.\n",
      "The homes across the street from the leak were evacuated as a precaution until crews from Dominion Energy repair the line.\n",
      "Highland Drive was temporarily closed between Richmond Avenue and 1300 East and 3300 South.\n",
      "No injuries were reported and the leak was repaired.\n",
      "\n",
      "記事[60]: https://www.fox13now.com/news/politics/flurry-of-activity-on-capitol-hill-as-legislative-session-ends : SELFIES WHILE DRIVINGThe legislature gave final approval to a bill that bans selfies while driving.\n",
      "It prohibits people from filming themselves or even traffic while driving, which has been an online trend.\n",
      "TINTED WINDOWSUtah drivers will be allowed to tint their car windows a little darker after a bill passed in the legislature allowing it to go to 35 percent light transmittance.\n",
      "CANNABIS BILLA bill cracking down on synthetic cannabis products has cleared a House vote.\n",
      "It's part of an overall medical cannabis bill that passed which also requires hemp and CBD products to be labeled \"not medical cannabis.\"\n",
      "\n",
      "記事[61]: https://www.fox13now.com/news/coronavirus/local-coronavirus-news/utah-reports-261-covid-cases-friday-11-more-deaths : SALT LAKE CITY — The Utah Department of Health on Friday reported 261 new cases of COVID-19 statewide since the day before and 11 new deaths.\n",
      "17 cases in children ages 5-107 cases in children ages 11-1311 cases in children ages 14-17The rolling 7-day average for positive tests is 337 per day.\n",
      "The rolling 7-day average for percent positivity of \"people over people\" is 11.9%.\n",
      "The rolling 7-day average for percent positivity of \"tests over tests\" is 7.3%.\n",
      "Case statistics for the 11 newly reported deaths are as follows:\n",
      "\n",
      "記事[62]: https://www.fox13now.com/news/local-news/utah-boy-dies-after-being-hit-by-car-while-riding-scooter : A 13-year-old boy who was struck by a vehicle this week while riding a scooter in an Eagle Mountain neighborhood has died after spending a day in critical care, according to a GoFundMe set up for his family.\n",
      "The crash happened on Wednesday, March 2 just after 4 p.m. when a 19-year-old woman allegedly crashed into the boy after he ran a stop sign near North Horizon Drive and North Hummer Drive.\n",
      "The GoFundMe identified the boy as Kayden Pennock.\n",
      "He was taken to Children's Primary Hospital where he remained in critical care until Thursday night, when his family said, they were informed he wouldn't make it.\n",
      "He was one of the best 13 year olds around and he is going to be greatly missed by so many,\" the GoFundMe page read.\n",
      "\n",
      "記事[63]: https://www.fox13now.com/news/crime/police-looking-for-missing-vehicle-of-dead-man-found-on-bangerter-highway : WEST JORDAN, Utah — Police are looking the truck of a man who was found lying dead on Bangerter Highway last weekend.\n",
      "Cesar Adan Martinez, 37, was stabbed multiple times and his body was found near 8000 South, Bangerter Highway on February 26.\n",
      "Then sometime around 2:30 a.m., Cesar was stabbed several times and dumped from his own pick up truck onto Bangerter Highway in West Jordan.\n",
      "said Emilio Adan Martinez, Father of Caesar Martinez.\n",
      "The West Jordan Police Department released a new surveillance photo on Friday of Cesar Adan Martinez's vehicle.\n",
      "\n",
      "記事[64]: https://www.fox13now.com/news/local-news/aggressive-turkey-finally-caught-in-salt-lake-city : SALT LAKE CITY — November is usually the time when turkeys begin to get a little antsy, but an \"aggressive\" gobbler got the attention of Salt Lake City police on Thursday.\n",
      "The turkey named Boris was being downright unfriendly after the sun went down in a local neighborhood.\n",
      "A social media post by police claimed that Boris was \"chasing cars and people.\"\n",
      "A photo included with the post showed Boris sitting on a utility line, fiendishly looking down while plotting his next devious move.\n",
      "But before Boris could continue his madcap hijinks, an ornithologist was called in and was able to stop the bird from performing any more mischief.\n",
      "\n",
      "記事[65]: https://www.fox13now.com/news/coronavirus/local-coronavirus-news/mask-mandate-dropped-in-utah-state-courts : SALT LAKE CITY — Masks will no longer be required inside Utah State Courts starting Monday.\n",
      "The announcement follows a similar move made by Salt Lake City that ended its mandate for government buildings and vehicles earlier this week.\n",
      "While masks must still be worn in courts located in counties with a high community level of COVID-19, there are currently no Utah counties with that designation.\n",
      "Those who remain unvaccinated are still encouraged to wear masks inside all court buildings.\n",
      "The Centers for Disease Control and Prevention drastically loosened its mask guidelines last week, requiring masks only in high level counties.\n",
      "\n",
      "記事[66]: https://www.fox13now.com/news/national-news/russia-ukraine-conflict/russian-lawmakers-approve-prison-for-fake-war-reports : The Russian parliament voted unanimously Friday to approve a draft law criminalizing the intentional spreading of what Russia deems to be “fake” reports.\n",
      "Russian authorities have repeatedly decried reports of Russian military setbacks or civilian deaths in Ukraine as “fake” reports.\n",
      "Together, they are among the most influential and often critical foreign media publishing in Russian.\n",
      "As of early afternoon in Moscow, the BBC website showed a message from Roskomnadzor that it had been blocked.\n",
      "Some well-known media outlets within Russia have chosen to close rather than face heavy restrictions on what they can report.\n",
      "\n",
      "記事[67]: https://www.fox13now.com/news/national-news/russia-ukraine-conflict/employees-at-ukraine-nuclear-power-plant-working-at-gunpoint : According to CNN, Russian troops have taken Ukraine's largest nuclear power facility, where a fire that had threatened disaster was extinguished in the early hours of Friday morning.\n",
      "The State Nuclear Regulatory Inspectorate (SNRI) acknowledged the Zaporizhzhia nuclear power facility in southeastern Ukraine was captured by Russian armed forces in a statement released Friday morning, but claimed inspectors were in communication with plant management.\n",
      "The six reactors at the power facility are still operational, although auxiliary facilities at one reactor had been damaged.\n",
      "Follow the latest developments on the Ukraine-Russia war hereUkraine’s nuclear power operator, Energoatom, said the “administrative building and the checkpoint at the station are under occupiers’ control.” It said staff are working on the power units to ensure their stable operation.\n",
      "Petro Kotin, head of Energoatom, later said that management at the plant were working at “gunpoint.” He added that Russian forces “entered the territory of the nuclear power plant, took control of the personnel and management of the nuclear power plant.”Kotin warned that although the reactors are safe, further attacks could lead to “disaster.”\n",
      "\n",
      "記事[68]: https://www.fox13now.com/weather/wintery-weather-this-weekend-valley-snow-expected : Valley rain and mountain snow will be most likely across the south in the morning, then spread north as the day progresses.\n",
      "Highs: Near 60.\n",
      "Highs: Mid 50s.\n",
      "Sunday: Partly cloudy with a slight chance of snow in the morning, then a slight chance of rain in the afternoon.\n",
      "Highs: Mid 50s.\n",
      "\n",
      "記事[69]: https://www.fox13now.com/news/fox-13-investigates/fox-13-investigates-public-school-with-ties-to-polygamous-sect-promises-change-to-avoid-further-discipline : FOX 13 Investigates: Public school with ties to polygamous sect is 100% whiteThe Utah State Charter School Board conducted its own investigation, confirming FOX 13’s findings.\n",
      "Everybody’s got the same last name.”As of March 2022, Vanguard Academy employees said they were still struggling to meet the Utah State Charter School Board’s mandates.\n",
      "Read: Public school with ties to polygamous sect under investigation by Charter School Board“I am not saying we have evidence of fraud or evidence of financial misspending,” said executive director Jennifer Lambert.\n",
      "“Well, like I say, this is a public charter school.\"\n",
      "The school also stated it has added two additional board members from outside the Kingston group as part of its effort to avoid further discipline from the Utah State Charter School Board.\n",
      "\n",
      "記事[70]: https://www.fox13now.com/news/national-news/russia-ukraine-conflict/new-program-backed-by-utah-leaders-aims-to-collect-donations-for-ukraine : SALT LAKE CITY — A new program to help send supplies to Ukraine was announced Thursday in Utah with the support of several local leaders.\n",
      "From March 4 to March 14 the state of Utah along with many benefactors are launching a massive campaign to help Ukraine.\n",
      "There are many ways Utahns can pitch in to the effort, including monetary and supply donations.\n",
      "“[It] means a lot.”The exact timeline for when the donations will be sent to Utah is still in the works.\n",
      "\"What I've told people is just plan on it because that's what we do in Utah,” Cox said.\n",
      "\n",
      "記事[71]: https://www.fox13now.com/news/local-news/sugar-house-community-looking-for-solution-to-chick-fil-a-traffic-congestion : SALT LAKE CITY — It’s a traffic problem that’s been an issue for years and Sugar House leaders and community members can’t wait for it to change.\n",
      "Long lines of customers eager for Chick-Fil-A block traffic every day, creating a lot of close-calls for pedestrians and other drivers heading eastbound on 2100 South.\n",
      "Landon Clark, chair of the Sugar House Community Council, said the Chick-Fil-A traffic congestion is one of the most discussed issues in Sugar House.\n",
      "“I’ll just go in, order my stuff and leave.”Read - Booze bills pass as Utah lawmakers race to end legislative sessionThe restaurant presented plans to the Sugar House Community Council on Wednesday night on how it hopes to restructure the drive-thru.\n",
      "“They’re going to move the entrance to the east side of the parking lot between the Redman building and Chick-Fil-A’s parking lot,” said Clark.\n",
      "\n",
      "記事[72]: http://ewscrippsco.freshdesk.com/solution/articles/5000535023-as-a-viewer-how-do-i-submit-a-new-support-ticket- : On the Support page (previous page), you will see a search box where there is a + New Support Ticket option to click.\n",
      "Under the Product Type, please select one of the belowNews - Television: This will include inquiries specific to our broadcast and news anchors.\n",
      "News - Website: This will include inquiries specific to our website.\n",
      "News - App: This will include inquiries specific to our mobile app.\n",
      "News - Streaming App (OTT): This will include inquiries specific to Roku, Firestick, AppleTV, and Android TV4.\n",
      "\n",
      "記事[73]: http://support.fox13now.com/support/solutions/articles/5000535023-helpdesk-how-do-i-submit-a-new-support-ticket- : On the Support page (previous page), you will see a search box where there is a + New Support Ticket option to click.\n",
      "Under the Product Type, please select one of the belowNews - Television: This will include inquiries specific to our broadcast and news anchors.\n",
      "News - Website: This will include inquiries specific to our website.\n",
      "News - App: This will include inquiries specific to our mobile app.\n",
      "News - Streaming App (OTT): This will include inquiries specific to Roku, Firestick, AppleTV, and Android TV4.\n",
      "\n",
      "記事[74]: http://support.fox13now.com/support/solutions/articles/5000741183-helpdesk-submitted-a-ticket-but-did-not-receive-a-response : Modified on: Wed, 20 Oct, 2021 at 11:33 AMHave you not received a response to your emailed ticket request?\n",
      "There is currently a known issue with some email domains (@att.net, sbcglobal.net, @cox.net, etc.)\n",
      "This issue is caused by certain email providers blocking or filtering our helpdesk messages as spam.\n",
      "Please make sure to send your request using our Support Portal website or using the \"Contact Support\" option in the settings of our mobile app.\n",
      "You can also check your spam folder or junk mail for a response from \"whelpdesk\".\n",
      "\n",
      "記事[75]: http://support.fox13now.com/support/solutions/articles/5000478680-website-how-to-find-the-web-browser-version-in-use : Modified on: Wed, 15 Sep, 2021 at 12:07 PMThe major Web Browsers (and most other software) offer a \"Help\" option often accessed with a \"?\"\n",
      "Clicking on this option typically gives a series of other options including \" About .... \".\n",
      "The Version Number.\n",
      "Publisher Name (Google Chrome, Microsoft Internet Explorer, Mozilla Firefox, Apple Safari, etc.)\n",
      "This information can be very beneficial, and often absolutely necessary when our team is trying to troubleshoot issues.\n",
      "\n",
      "記事[76]: http://support.fox13now.com/support/solutions/articles/5000872086-website-how-do-i-search-for-articles- : Modified on: Wed, 15 Sep, 2021 at 1:06 PMIn the top left-hand corner of the website, you will see a Search icon that looks like a magnifying glass.\n",
      "Within the search, you will want to enter a keyword and then press enter to search.\n",
      "Keywords are informative words used in the search retrieval system to indicate the content of an article.\n",
      "For example, if there was a story about a vehicle recall you may want to search the keyword \"Recall\".\n",
      "We recommend keeping the search to two keywords and placing quotations around those two words (\"Recall\" or \"Vehicle Recall\").\n",
      "\n",
      "記事[77]: http://support.fox13now.com/support/solutions/articles/5000872089-website-looking-for-a-specific-section : Modified on: Wed, 15 Sep, 2021 at 1:01 PMIn the top left-hand corner, there will be an option for Menu.\n",
      "Here you will find the different sections users can access.\n",
      "You have the option to Expand All Sections + at the top or you can click the + sign next to the desired section to see the sub-sections.\n",
      "Users can also look at the top of the website for our most popular sections to click for quick access.\n",
      "Please note, sections and sub-sections do change periodically with time.\n",
      "\n",
      "記事[78]: http://support.fox13now.com/support/solutions/articles/5000872093-website-how-do-i-watch-the-livestream- : Modified on: Wed, 15 Sep, 2021 at 2:33 PMOn the website, you will see a Watch Live button in the top right-hand corner of the app.\n",
      "Once you click this button, you will be taken to the feed where you can alsosee the Livestream schedule for the day.\n",
      "\n",
      "記事[79]: http://support.fox13now.com/support/solutions/articles/5000872096-website-how-to-enable-closed-captioning : Modified on: Wed, 15 Sep, 2021 at 4:02 PMOnce the advertisement has played and the station video has begun you will see a toolbar at the bottom of the video.\n",
      "Here you can click on the white CC box to enable the closed captioning when available.\n",
      "\n",
      "記事[80]: http://support.fox13now.com/support/solutions/articles/5000871737-ios-how-do-i-send-a-support-ticket-through-the-app- : Modified on: Thu, 26 Aug, 2021 at 2:23 PMWithin the app:1) Go to the app Settings tab at the bottom of the screen2) Tap on Contact Support3) This will bring up an email where you can write your message and send into the team*Please be sure to keep the pre-populated diagnostic information in the email so our support team can better troubleshoot any issues.\n",
      "\n",
      "記事[81]: http://support.fox13now.com/support/solutions/articles/5000871749-ios-why-the-articles-are-arranged-as-they-are : Modified on: Thu, 26 Aug, 2021 at 12:09 PMThe app will actually mirror the website where there are a group of Top Stories pinned to the top and after those top stories, the articles will be sorted by date and time.\n",
      "You see, we have found that some of our users will open the app a few times a day while others may only open the app once a day.\n",
      "By pinning those top stories to the top, this will ensure all users see those important stories for the day.\n",
      "\n",
      "記事[82]: http://support.fox13now.com/support/solutions/articles/5000871732-ios-push-notifications-and-alerts : Modified on: Wed, 25 Aug, 2021 at 4:08 PMTo Enable Push Notifications:1) Go to the app Settings2) Tap on Push Notifications3) Here you can enable the category of push notifications you wish to receive.\n",
      "You can also set a timeframe for \"Quiet Time\" where you do not receive push notifications during a set timeframe.\n",
      "To Disable Push Notifcations:1) Go to the app Settings2) Tap on Push Notifications3) Here you can disable the push notifications for the appIf you are having issues where you tap the notifications but they do not take you to a specific article, try these steps:1) Uninstall the app from your device2) Power down your device for a minute or two and then power back up2) Reinstall the app while on a strong wifi connection\n",
      "\n",
      "記事[83]: http://support.fox13now.com/support/solutions/articles/5000709160-weather-what-do-the-weather-terms-mean- : Many of the terms and abbreviations used by NWS forecasters have been in use for many years and before many NWS products were directly available to the public.\n",
      "In some cases, different terms have been applied to the same item in different local areas.\n",
      "To learn more about these terms, follow this Link to the NWS Glossary website for a comprehensive definition of the terms used and the weather conditions.that result in an alert or warning transmission.\n",
      "\n",
      "記事[84]: http://support.fox13now.com/support/solutions/articles/5000573067-weather-where-does-the-weather-data-originate-for-a-location-weather-station-locations- : The Storm Shield app uses weather data and alerts provided by the National Weather Service of the United States.\n",
      "Sometimes topographic features may have a major impact on the weather actually experienced at a location that does not match the nearest weather station.\n",
      "In such a case, we would suggest setting one of the \"Saved Locations\" close to a known weather station with similar weather.\n",
      "You can find the different locations of NWS Automated and COOP weather stations here.\n",
      "The Storm Shield app is designed to be as responsive as we can make it to ensure accurate Alert-delivery to mobile devices.\n",
      "\n",
      "記事[85]: http://support.fox13now.com/support/solutions/articles/5000708960-weather-what-do-the-symbols-mean-on-the-weather-screen : The Weather Screen for the App uses a variety of symbols or icons to represent different conditions or blocks of information about the weather and forecast.\n",
      "The chart below identifies many of the symbols used.\n",
      "In some cases, a partial-sun or moon is shown indicating day or night.\n",
      "\n",
      "記事[86]: http://support.fox13now.com/support/solutions/articles/5000871667-weather-why-is-there-a-difference-between-the-meteorologist-numbers-and-the-app-website-numbers- : Modified on: Wed, 20 Oct, 2021 at 11:31 AMThe forecast numbers you see on TV are provided by the local TV station Meteorologist him/herself, given their knowledge of local or regional forecast patterns, based on their professional Meteorological experience for the local areas.\n",
      "Conversely, the digital forecast numbers you see on the website or mobile app are generated by automated data, without a human Meteorologist's oversight.\n",
      "These numbers come from a third-party partner.\n",
      "Generally speaking, a forecast is an estimate, and different triggers - such as varying computer forecast models, human interpretation of those models, and strictly automated computer data - should be taken into consideration when comparing forecasts between various sources.\n",
      "Because the Meteorologist has the knowledge of the area, we recommend leaning towards their recommended forecast if there are any varying reports.\n",
      "\n",
      "記事[87]: http://support.fox13now.com/support/solutions/articles/5000715332-weather-why-do-some-areas-constantly-show-an-anomaly- : While radar is a generally reliable method to detect and display moisture-bearing clouds, it is not foolproof and can generate false returns or \"ghost\" images under certain conditions.\n",
      "These conditions occur sporadically around the country when the radar is being reflected off some large geographic feature like a mountain or can even be caused by man-made structures and equipment such as a wind farm.\n",
      "In mountainous terrain such as found in the state of Colorado such issues are more likely to occur, and unfortunately this is a physical location problem that cannot be fixed.\n",
      "\n",
      "記事[88]: http://support.fox13now.com/support/solutions/articles/5000871750-android-how-do-i-send-a-support-ticket-through-the-app- : Modified on: Thu, 26 Aug, 2021 at 2:23 PMWithin the app:1) Go to the app Settings tab at the bottom of the screen2) Tap on Contact Support3) This will bring up an email where you can write your message and send into the team*Please be sure to keep the pre-populated diagnostic information in the email so our support team can better troubleshoot any issues.\n",
      "\n",
      "記事[89]: http://support.fox13now.com/support/solutions/articles/5000871734-android-why-the-articles-are-arranged-as-they-are : Modified on: Fri, 27 Aug, 2021 at 1:48 PMThe app will actually mirror the website where there are a group of Top Stories pinned to the top and after those top stories, the articles will be sorted by date and time.\n",
      "You see, we have found that some of our users will open the app a few times a day while others may only open the app once a day.\n",
      "By pinning those top stories to the top, this will ensure all users see those important stories for the day.\n",
      "\n",
      "記事[90]: http://support.fox13now.com/support/solutions/articles/5000505098-android-how-to-find-the-app-version : Modified on: Wed, 1 Sep, 2021 at 1:33 PMWithin the app:1) Tap on the Settings icon in the app2) Scroll down and click on Version3) This will provide your app's version numberThis information can be very beneficial, and often absolutely necessary when troubleshooting issues.\n",
      "To ensure you are on the latest version, you can always go into the Google Play Store and search for the app.\n",
      "If the option to Update is in view you will want to update to the latest version, if the option to Open is in view then you are on the latest version.\n",
      "\n",
      "記事[91]: http://support.fox13now.com/support/solutions/articles/5000700146-android-how-to-take-a-screenshot : Android: How To Take A Screenshot PrintModified on: Wed, 25 Aug, 2021 at 2:02 PMTo take a screenshot with your Android Phone:Hold the Volume down key and the Power key (Side key) simultaneously .\n",
      "The screen will flash, indicating that a screenshot was captured.\n",
      "Go into your Photos/Gallery to select the screenshot to send.\n",
      "Did you find it helpful?\n",
      "\n",
      "記事[92]: http://support.fox13now.com/support/solutions/articles/5000871699-android-how-to-uninstall-and-reinstall : Android: How To Uninstall And Reinstall PrintModified on: Tue, 24 Aug, 2021 at 5:37 PMTo uninstall an app from an Android App:Force close the app if it is running.\n",
      "Press and hold until you see the option to uninstall.\n",
      "If you are re-installing the app, please power down your device for a minute or two and the power back up.\n",
      "To re-install the Android App:Go to the \" Google Play Store App Store ”.\n",
      "Search for the App Click the \"Install\" option Once installed this should place the app within your app library on your device.\n",
      "\n"
     ]
    }
   ],
   "source": [
    "for item, article in enumerate(website.articles):\n",
    "    website_article = website.articles[item]\n",
    "    website_article_url = website_article.url\n",
    "    try:\n",
    "        website_article.download()\n",
    "        website_article.parse()\n",
    "        website_article.nlp()\n",
    "        print(\"記事[\" + str(item) + \"]: \"+ website_article_url +\" : \" + website_article.summary + \"\\n\")\n",
    "    except:\n",
    "        print(\"記事[\" + str(item) + \"]: \"+ website_article_url +\" : \" + \"取得エラー\" + \"\\n\")\n",
    "    continue"
   ]
  },
  {
   "cell_type": "code",
   "execution_count": null,
   "metadata": {},
   "outputs": [],
   "source": []
  }
 ],
 "metadata": {
  "kernelspec": {
   "display_name": "Python 3",
   "language": "python",
   "name": "python3"
  },
  "language_info": {
   "codemirror_mode": {
    "name": "ipython",
    "version": 3
   },
   "file_extension": ".py",
   "mimetype": "text/x-python",
   "name": "python",
   "nbconvert_exporter": "python",
   "pygments_lexer": "ipython3",
   "version": "3.8.5"
  }
 },
 "nbformat": 4,
 "nbformat_minor": 4
}
