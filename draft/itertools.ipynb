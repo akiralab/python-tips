{
 "cells": [
  {
   "cell_type": "markdown",
   "id": "d03f056d-a2b8-4955-b1db-633c72ad961a",
   "metadata": {},
   "source": [
    "# itertools\n",
    "- 時々しか使わないけれど、便利なツール"
   ]
  },
  {
   "cell_type": "markdown",
   "id": "b679096d-e7ef-4f5c-8650-dcf0fb382816",
   "metadata": {},
   "source": [
    "### 組み合わせを出力してくれる"
   ]
  },
  {
   "cell_type": "code",
   "execution_count": 7,
   "id": "f9567690-ea84-44b1-a5af-c690f5bffbdc",
   "metadata": {},
   "outputs": [
    {
     "data": {
      "text/plain": [
       "[(1, 2),\n",
       " (1, 3),\n",
       " (1, 4),\n",
       " (1, 5),\n",
       " (2, 3),\n",
       " (2, 4),\n",
       " (2, 5),\n",
       " (3, 4),\n",
       " (3, 5),\n",
       " (4, 5)]"
      ]
     },
     "execution_count": 7,
     "metadata": {},
     "output_type": "execute_result"
    }
   ],
   "source": [
    "import itertools\n",
    "p_list = [1, 2, 3, 4, 5]\n",
    "list(itertools.combinations(p_list, 2))"
   ]
  },
  {
   "cell_type": "markdown",
   "id": "227719ec-029a-45d4-b9f2-4c0999716971",
   "metadata": {},
   "source": [
    "### （例）Nある商品の中から、M個選んだ時の値段をリスト化する"
   ]
  },
  {
   "cell_type": "code",
   "execution_count": 12,
   "id": "04fdd0f3-0295-49a3-834e-0b45aa32813e",
   "metadata": {},
   "outputs": [],
   "source": [
    "products = {\n",
    "    'a' : 100,\n",
    "    'b' : 500,\n",
    "    'c' : 200,\n",
    "    'd' : 400,\n",
    "    'e' : 600,\n",
    "    'f' : 1000,\n",
    "    'g' : 2000,\n",
    "    'h' : 5000,\n",
    "}"
   ]
  },
  {
   "cell_type": "code",
   "execution_count": 17,
   "id": "6192638d-a41e-49f9-8d8a-181222ac92ee",
   "metadata": {},
   "outputs": [
    {
     "name": "stdout",
     "output_type": "stream",
     "text": [
      "---商品は全部で8種類\n",
      "---組み合わせは全部で28通り\n"
     ]
    }
   ],
   "source": [
    "# 2つ選ぶ時\n",
    "carts = list(itertools.combinations(products.keys(), 2))\n",
    "print('---商品は全部で{}種類'.format(len(products)))\n",
    "print('---組み合わせは全部で{}通り'.format(len(carts)))"
   ]
  },
  {
   "cell_type": "code",
   "execution_count": 31,
   "id": "4afab96f-cd0e-4b70-b8f1-ec01be75a4df",
   "metadata": {},
   "outputs": [
    {
     "name": "stdout",
     "output_type": "stream",
     "text": [
      "---組み合わせが('a', 'b')の時、合計金額は600円\n",
      "---組み合わせが('a', 'c')の時、合計金額は300円\n",
      "---組み合わせが('a', 'd')の時、合計金額は500円\n",
      "---組み合わせが('a', 'e')の時、合計金額は700円\n",
      "---組み合わせが('a', 'f')の時、合計金額は1100円\n",
      "---組み合わせが('a', 'g')の時、合計金額は2100円\n",
      "---組み合わせが('a', 'h')の時、合計金額は5100円\n",
      "---組み合わせが('b', 'c')の時、合計金額は700円\n",
      "---組み合わせが('b', 'd')の時、合計金額は900円\n",
      "---組み合わせが('b', 'e')の時、合計金額は1100円\n",
      "---組み合わせが('b', 'f')の時、合計金額は1500円\n",
      "---組み合わせが('b', 'g')の時、合計金額は2500円\n",
      "---組み合わせが('b', 'h')の時、合計金額は5500円\n",
      "---組み合わせが('c', 'd')の時、合計金額は600円\n",
      "---組み合わせが('c', 'e')の時、合計金額は800円\n",
      "---組み合わせが('c', 'f')の時、合計金額は1200円\n",
      "---組み合わせが('c', 'g')の時、合計金額は2200円\n",
      "---組み合わせが('c', 'h')の時、合計金額は5200円\n",
      "---組み合わせが('d', 'e')の時、合計金額は1000円\n",
      "---組み合わせが('d', 'f')の時、合計金額は1400円\n",
      "---組み合わせが('d', 'g')の時、合計金額は2400円\n",
      "---組み合わせが('d', 'h')の時、合計金額は5400円\n",
      "---組み合わせが('e', 'f')の時、合計金額は1600円\n",
      "---組み合わせが('e', 'g')の時、合計金額は2600円\n",
      "---組み合わせが('e', 'h')の時、合計金額は5600円\n",
      "---組み合わせが('f', 'g')の時、合計金額は3000円\n",
      "---組み合わせが('f', 'h')の時、合計金額は6000円\n",
      "---組み合わせが('g', 'h')の時、合計金額は7000円\n"
     ]
    }
   ],
   "source": [
    "for cart in carts:\n",
    "    bill = np.array([products[item] for item in cart]).sum()\n",
    "    print('---組み合わせが{}の時、合計金額は{}円'.format(cart, bill))\n",
    "    # break"
   ]
  },
  {
   "cell_type": "code",
   "execution_count": 33,
   "id": "0669fb03-63cb-46c8-b4d6-3e72f3e8b15a",
   "metadata": {},
   "outputs": [],
   "source": [
    "bills = {}\n",
    "for cart in carts:\n",
    "    bill = np.array([products[item] for item in cart]).sum()\n",
    "    bills[cart] = bill\n"
   ]
  },
  {
   "cell_type": "code",
   "execution_count": 41,
   "id": "ec01db07-c7ed-4acf-9064-8a68d628affb",
   "metadata": {},
   "outputs": [
    {
     "name": "stdout",
     "output_type": "stream",
     "text": [
      "---もっとも安い組み合わせは、('a', 'c')の時で、合計金額は300円\n",
      "---もっとも高い組み合わせは、('g', 'h')の時で、合計金額は7000円\n"
     ]
    }
   ],
   "source": [
    "sorted_bills = sorted(bills.items(), key=lambda x:x[1])\n",
    "\n",
    "print('---もっとも安い組み合わせは、{}の時で、合計金額は{}円'.format(sorted_bills[0][0], sorted_bills[0][1]))\n",
    "print('---もっとも高い組み合わせは、{}の時で、合計金額は{}円'.format(sorted_bills[-1][0], sorted_bills[-1][1]))"
   ]
  },
  {
   "cell_type": "code",
   "execution_count": null,
   "id": "7cb33a89-6c06-47bd-b27e-e911613169f0",
   "metadata": {},
   "outputs": [],
   "source": []
  }
 ],
 "metadata": {
  "kernelspec": {
   "display_name": "Python 3",
   "language": "python",
   "name": "python3"
  },
  "language_info": {
   "codemirror_mode": {
    "name": "ipython",
    "version": 3
   },
   "file_extension": ".py",
   "mimetype": "text/x-python",
   "name": "python",
   "nbconvert_exporter": "python",
   "pygments_lexer": "ipython3",
   "version": "3.8.9"
  }
 },
 "nbformat": 4,
 "nbformat_minor": 5
}
