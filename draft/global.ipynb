{
 "cells": [
  {
   "cell_type": "markdown",
   "metadata": {},
   "source": [
    "# globalの使い方"
   ]
  },
  {
   "cell_type": "code",
   "execution_count": 4,
   "metadata": {},
   "outputs": [
    {
     "name": "stdout",
     "output_type": "stream",
     "text": [
      "[関数外部]時点でのaの値は,  1\n",
      "---[関数内部]時点でのaの値も,  1\n",
      "---[関数内部]時点でのaの値は,  2\n",
      "[関数外部]時点でのaの値は,  2\n",
      "関数呼び出しによって、global変数と定義したaの値が変化する\n"
     ]
    }
   ],
   "source": [
    "a = 1\n",
    "print('[関数外部]時点でのaの値は, ', a)\n",
    "\n",
    "def test():\n",
    "    global a\n",
    "    print('---[関数内部]時点でのaの値も, ', a)\n",
    "    a = 2\n",
    "    print('---[関数内部]時点でのaの値は, ', a)\n",
    "\n",
    "\n",
    "test()\n",
    "print('[関数外部]時点でのaの値は, ', a)\n",
    "print('関数呼び出しによって、global変数と定義したaの値が変化する')"
   ]
  },
  {
   "cell_type": "code",
   "execution_count": null,
   "metadata": {},
   "outputs": [],
   "source": [
    "\n"
   ]
  }
 ],
 "metadata": {
  "kernelspec": {
   "display_name": "Python 3",
   "language": "python",
   "name": "python3"
  },
  "language_info": {
   "codemirror_mode": {
    "name": "ipython",
    "version": 3
   },
   "file_extension": ".py",
   "mimetype": "text/x-python",
   "name": "python",
   "nbconvert_exporter": "python",
   "pygments_lexer": "ipython3",
   "version": "3.8.5"
  }
 },
 "nbformat": 4,
 "nbformat_minor": 4
}
