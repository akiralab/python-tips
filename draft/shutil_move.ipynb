{
 "cells": [
  {
   "cell_type": "markdown",
   "metadata": {},
   "source": [
    "# shutil\n",
    "- sh + utilから名称が来ている\n",
    "- ファイルのコピーや移動を自在に行うことができるツール"
   ]
  },
  {
   "cell_type": "code",
   "execution_count": 3,
   "metadata": {},
   "outputs": [
    {
     "data": {
      "text/plain": [
       "True"
      ]
     },
     "execution_count": 3,
     "metadata": {},
     "output_type": "execute_result"
    }
   ],
   "source": [
    "import os, shutil\n",
    "path = '../src/a/sample.txt'\n",
    "os.path.exists(path)"
   ]
  },
  {
   "cell_type": "markdown",
   "metadata": {},
   "source": [
    "### `../src/a/` -> `../src/b/`に移動させる"
   ]
  },
  {
   "cell_type": "code",
   "execution_count": 5,
   "metadata": {},
   "outputs": [
    {
     "data": {
      "text/plain": [
       "'../src/b/sample.txt'"
      ]
     },
     "execution_count": 5,
     "metadata": {},
     "output_type": "execute_result"
    }
   ],
   "source": [
    "src_path = '../src/a/sample.txt'\n",
    "dst_dir = '../src/b/'\n",
    "\n",
    "shutil.move(src_path, dst_dir)"
   ]
  },
  {
   "cell_type": "code",
   "execution_count": 9,
   "metadata": {},
   "outputs": [
    {
     "name": "stdout",
     "output_type": "stream",
     "text": [
      "移動元のディレクトリ---> False\n",
      "移動先のディレクトリ---> True\n"
     ]
    }
   ],
   "source": [
    "# 元のPathからは移動が完了していることが確認できる\n",
    "print('移動元のディレクトリ--->', os.path.exists('../src/a/sample.txt'))\n",
    "print('移動先のディレクトリ--->', os.path.exists('../src/b/sample.txt'))"
   ]
  }
 ],
 "metadata": {
  "kernelspec": {
   "display_name": "Python 3",
   "language": "python",
   "name": "python3"
  },
  "language_info": {
   "codemirror_mode": {
    "name": "ipython",
    "version": 3
   },
   "file_extension": ".py",
   "mimetype": "text/x-python",
   "name": "python",
   "nbconvert_exporter": "python",
   "pygments_lexer": "ipython3",
   "version": "3.8.5"
  }
 },
 "nbformat": 4,
 "nbformat_minor": 4
}
