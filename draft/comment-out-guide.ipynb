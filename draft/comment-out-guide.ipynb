{
 "cells": [
  {
   "cell_type": "code",
   "execution_count": null,
   "metadata": {},
   "outputs": [],
   "source": []
  },
  {
   "cell_type": "markdown",
   "metadata": {},
   "source": [
    "可読性を上げるために、関数には説明を加える"
   ]
  },
  {
   "cell_type": "markdown",
   "metadata": {},
   "source": [
    "\"\"\"\n",
    "This script is for some specific situation.\n",
    "Usage:\n",
    "    calculate something\n",
    "\"\"\""
   ]
  },
  {
   "cell_type": "code",
   "execution_count": 7,
   "metadata": {},
   "outputs": [],
   "source": [
    "def template_short(some_inputs):\n",
    "    \"\"\"This explanation is used for plain method.\"\"\"\n",
    "    some_outputs = some_inputs\n",
    "        \n",
    "    return some_outputs"
   ]
  },
  {
   "cell_type": "code",
   "execution_count": 8,
   "metadata": {},
   "outputs": [],
   "source": [
    "def template_long(some_inputs):\n",
    "    \"\"\"\n",
    "    This explanation is used for complex methoc.\n",
    "    \n",
    "    Parameters\n",
    "    ----------\n",
    "    some_inputs  : tuple, optional\n",
    "        arguments for `some.method()`.\n",
    "    \"\"\"\n",
    "    some_outputs = some_inputs\n",
    "        \n",
    "    return some_outputs"
   ]
  },
  {
   "cell_type": "code",
   "execution_count": null,
   "metadata": {},
   "outputs": [],
   "source": []
  }
 ],
 "metadata": {
  "kernelspec": {
   "display_name": "Python 3",
   "language": "python",
   "name": "python3"
  },
  "language_info": {
   "codemirror_mode": {
    "name": "ipython",
    "version": 3
   },
   "file_extension": ".py",
   "mimetype": "text/x-python",
   "name": "python",
   "nbconvert_exporter": "python",
   "pygments_lexer": "ipython3",
   "version": "3.8.5"
  }
 },
 "nbformat": 4,
 "nbformat_minor": 4
}
