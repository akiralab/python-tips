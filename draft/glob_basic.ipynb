{
 "cells": [
  {
   "cell_type": "markdown",
   "metadata": {},
   "source": [
    "# globの基本的な使い方\n",
    "\n",
    "- 大量のファイルの中から特定のファイルを引っ張ってくる時などに用いる\n",
    "- 正規化表現を用いて検索できる\n",
    "\n",
    "1. glob.glob(PATH)"
   ]
  },
  {
   "cell_type": "code",
   "execution_count": 1,
   "metadata": {},
   "outputs": [],
   "source": [
    "import glob"
   ]
  },
  {
   "cell_type": "markdown",
   "metadata": {},
   "source": [
    "### 1. 正規化表現を用いて検索する -> `glob.glob(PATTERN)`"
   ]
  },
  {
   "cell_type": "code",
   "execution_count": 4,
   "metadata": {},
   "outputs": [
    {
     "data": {
      "text/plain": [
       "['../pprint/pprint.ipynb',\n",
       " '../ahlive/ahlive.ipynb',\n",
       " '../box/box.ipynb',\n",
       " '../python/comment-out-guide.ipynb',\n",
       " '../python/name.ipynb',\n",
       " '../python/class.ipynb',\n",
       " '../python/python-print.ipynb',\n",
       " '../python/global.ipynb',\n",
       " '../numpy/np_vs_python.ipynb',\n",
       " '../numpy/np_random.ipynb',\n",
       " '../numpy/np_normal.ipynb',\n",
       " '../numpy/np_clip.ipynb',\n",
       " '../numpy/np_slice.ipynb',\n",
       " '../numpy/np_math.ipynb',\n",
       " '../numpy/np_basics.ipynb',\n",
       " '../opencv/cv2_imread.ipynb',\n",
       " '../pytorch_lightning/seed_everything.ipynb',\n",
       " '../tqdm/tqdm.ipynb',\n",
       " '../matplotlib/plt_basics.ipynb',\n",
       " '../matplotlib/plt_subplots.ipynb',\n",
       " '../matplotlib/plt_animation.ipynb',\n",
       " '../matplotlib/plt_style.ipynb',\n",
       " '../matplotlib/plt_errorbar.ipynb',\n",
       " '../os/os_basic.ipynb',\n",
       " '../glob/glob_basic.ipynb',\n",
       " '../collections/collections_counter.ipynb',\n",
       " '../scipy/scipy_stats.ipynb',\n",
       " '../pandas/pd_loc.ipynb',\n",
       " '../pandas/pd_drop_add_column.ipynb',\n",
       " '../pandas/pd_rename.ipynb',\n",
       " '../pandas/pd_value_counts.ipynb',\n",
       " '../pandas/pd_basic.ipynb',\n",
       " '../pandas/pd_count_unique.ipynb',\n",
       " '../pandas/pd_from_dict.ipynb',\n",
       " '../pandas/pd_index.ipynb',\n",
       " '../pandas/pd_groupby.ipynb']"
      ]
     },
     "execution_count": 4,
     "metadata": {},
     "output_type": "execute_result"
    }
   ],
   "source": [
    "pattern = \"../*/*.ipynb\"\n",
    "glob.glob(pattern)"
   ]
  },
  {
   "cell_type": "code",
   "execution_count": null,
   "metadata": {},
   "outputs": [],
   "source": []
  },
  {
   "cell_type": "code",
   "execution_count": null,
   "metadata": {},
   "outputs": [],
   "source": []
  }
 ],
 "metadata": {
  "kernelspec": {
   "display_name": "Python 3",
   "language": "python",
   "name": "python3"
  },
  "language_info": {
   "codemirror_mode": {
    "name": "ipython",
    "version": 3
   },
   "file_extension": ".py",
   "mimetype": "text/x-python",
   "name": "python",
   "nbconvert_exporter": "python",
   "pygments_lexer": "ipython3",
   "version": "3.8.5"
  }
 },
 "nbformat": 4,
 "nbformat_minor": 4
}
