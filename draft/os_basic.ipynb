{
 "cells": [
  {
   "cell_type": "markdown",
   "metadata": {},
   "source": [
    "# osの基本的な使い方\n",
    "\n",
    "### path操作系\n",
    "1. os.path.exists()\n",
    "2. os.path.join(DIR_NAME, ...)\n",
    "3. os.makedirs(PATH, exist_ok=True)\n",
    "4. os.rename(OLD_PATH, NEW_PATH)\n",
    "5. os.listdir(PATH)\n",
    "\n",
    "### 検索系\n",
    "6. os.walk(ROOT_DIR)"
   ]
  },
  {
   "cell_type": "code",
   "execution_count": 2,
   "metadata": {},
   "outputs": [],
   "source": [
    "import os"
   ]
  },
  {
   "cell_type": "markdown",
   "metadata": {},
   "source": [
    "### 1. pathが存在するか確認する -> `os.path.exists(PATH)`"
   ]
  },
  {
   "cell_type": "code",
   "execution_count": 4,
   "metadata": {},
   "outputs": [
    {
     "data": {
      "text/plain": [
       "True"
      ]
     },
     "execution_count": 4,
     "metadata": {},
     "output_type": "execute_result"
    }
   ],
   "source": [
    "os.path.exists('../src/sample.jpg')"
   ]
  },
  {
   "cell_type": "markdown",
   "metadata": {},
   "source": [
    "### 2. pathを作成する -> `os.path.join(DIR_NAME, ...)`"
   ]
  },
  {
   "cell_type": "code",
   "execution_count": 8,
   "metadata": {},
   "outputs": [
    {
     "data": {
      "text/plain": [
       "'../src/test.txt'"
      ]
     },
     "execution_count": 8,
     "metadata": {},
     "output_type": "execute_result"
    }
   ],
   "source": [
    "os.path.join('../src', 'test.txt')"
   ]
  },
  {
   "cell_type": "markdown",
   "metadata": {},
   "source": [
    "### 3. ディレクトリを作成する -> `os.makedirs(PATH, exist_ok=True)`"
   ]
  },
  {
   "cell_type": "code",
   "execution_count": 16,
   "metadata": {},
   "outputs": [
    {
     "data": {
      "text/plain": [
       "True"
      ]
     },
     "execution_count": 16,
     "metadata": {},
     "output_type": "execute_result"
    }
   ],
   "source": [
    "path = '../src/test'\n",
    "os.makedirs(path, exist_ok=True)\n",
    "os.path.exists(path)"
   ]
  },
  {
   "cell_type": "markdown",
   "metadata": {},
   "source": [
    "### 4. ディレクトリもしくはファイルの名前を変更する -> `os.rename(OLD_PATH, NEW_PATH)`"
   ]
  },
  {
   "cell_type": "code",
   "execution_count": 17,
   "metadata": {},
   "outputs": [],
   "source": [
    "old_name = '../src/test'\n",
    "new_name = '../src/test1'\n",
    "\n",
    "os.rename(old_name, new_name)"
   ]
  },
  {
   "cell_type": "markdown",
   "metadata": {},
   "source": [
    "### 5. ディレクトリのファイル名をリストアップする -> `os.listdir(DIR)`"
   ]
  },
  {
   "cell_type": "code",
   "execution_count": 20,
   "metadata": {},
   "outputs": [
    {
     "data": {
      "text/plain": [
       "['pprint',\n",
       " 'ahlive',\n",
       " 'box',\n",
       " '.DS_Store',\n",
       " 'python',\n",
       " 'articles',\n",
       " 'node_modules',\n",
       " 'torch',\n",
       " 'books',\n",
       " 'numpy',\n",
       " 'README.md',\n",
       " 'opencv',\n",
       " '.gitignore',\n",
       " 'package-lock.json',\n",
       " 'package.json',\n",
       " 'pytorch_lightning',\n",
       " 'tqdm',\n",
       " 'matplotlib',\n",
       " 'os',\n",
       " '.ipynb_checkpoints',\n",
       " 'glob',\n",
       " '.git',\n",
       " '.vscode',\n",
       " 'collections',\n",
       " 'scipy',\n",
       " 'pandas',\n",
       " 'src']"
      ]
     },
     "execution_count": 20,
     "metadata": {},
     "output_type": "execute_result"
    }
   ],
   "source": [
    "os.listdir('../')"
   ]
  },
  {
   "cell_type": "markdown",
   "metadata": {},
   "source": [
    "### 6. ディレクトリ内部のroot, dir名, file名を一覧表示する -> os.walk(PATH)"
   ]
  },
  {
   "cell_type": "code",
   "execution_count": 28,
   "metadata": {},
   "outputs": [
    {
     "name": "stdout",
     "output_type": "stream",
     "text": [
      "root ../python/\n",
      "---dirs ['__pycache__', '.ipynb_checkpoints']\n",
      "---files ['comment-out-guide.ipynb', 'nametest.py', 'name.ipynb', 'class.ipynb', 'README.md', 'python-print.ipynb', 'global.ipynb']\n",
      "----------------------------------------\n",
      "root ../python/__pycache__\n",
      "---dirs []\n",
      "---files ['nametest.cpython-38.pyc']\n",
      "----------------------------------------\n",
      "root ../python/.ipynb_checkpoints\n",
      "---dirs []\n",
      "---files ['name-checkpoint.ipynb', 'class-checkpoint.ipynb', 'comment-out-guide-checkpoint.ipynb', 'nametest-checkpoint.py', 'global-checkpoint.ipynb', 'python-print-checkpoint.ipynb']\n",
      "----------------------------------------\n"
     ]
    }
   ],
   "source": [
    "for (root, dirs, files) in os.walk('../python/'):\n",
    "    print('root', root)\n",
    "    print('---dirs', dirs)\n",
    "    print('---files', files)\n",
    "    print('-'*40)    "
   ]
  },
  {
   "cell_type": "code",
   "execution_count": null,
   "metadata": {},
   "outputs": [],
   "source": []
  },
  {
   "cell_type": "code",
   "execution_count": null,
   "metadata": {},
   "outputs": [],
   "source": []
  },
  {
   "cell_type": "code",
   "execution_count": null,
   "metadata": {},
   "outputs": [],
   "source": []
  }
 ],
 "metadata": {
  "kernelspec": {
   "display_name": "Python 3",
   "language": "python",
   "name": "python3"
  },
  "language_info": {
   "codemirror_mode": {
    "name": "ipython",
    "version": 3
   },
   "file_extension": ".py",
   "mimetype": "text/x-python",
   "name": "python",
   "nbconvert_exporter": "python",
   "pygments_lexer": "ipython3",
   "version": "3.8.5"
  }
 },
 "nbformat": 4,
 "nbformat_minor": 4
}
