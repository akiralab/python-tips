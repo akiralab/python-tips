{
 "metadata": {
  "language_info": {
   "codemirror_mode": {
    "name": "ipython",
    "version": 3
   },
   "file_extension": ".py",
   "mimetype": "text/x-python",
   "name": "python",
   "nbconvert_exporter": "python",
   "pygments_lexer": "ipython3",
   "version": "3.7.6-final"
  },
  "orig_nbformat": 2,
  "kernelspec": {
   "name": "python3",
   "display_name": "Python 3",
   "language": "python"
  }
 },
 "nbformat": 4,
 "nbformat_minor": 2,
 "cells": [
  {
   "cell_type": "code",
   "execution_count": 2,
   "metadata": {},
   "outputs": [],
   "source": [
    "import numpy as np"
   ]
  },
  {
   "cell_type": "code",
   "execution_count": 3,
   "metadata": {},
   "outputs": [
    {
     "output_type": "stream",
     "name": "stdout",
     "text": [
      "a:  [0 1 2 3 4 5 6 7 8 9]\na[:] [0 1 2 3 4 5 6 7 8 9]\na[:5]:  [0 1 2 3 4]\na[:-1]:  [0 1 2 3 4 5 6 7 8]\n"
     ]
    }
   ],
   "source": [
    "a = np.arange(10)\n",
    "\n",
    "# a[start:end]\n",
    "\n",
    "print('a: ', a)\n",
    "\n",
    "print('a[:]', a[:])\n",
    "\n",
    "print(\"a[:5]: \", a[:5])\n",
    "\n",
    "print('a[:-1]: ', a[:-1])"
   ]
  },
  {
   "cell_type": "code",
   "execution_count": 4,
   "metadata": {},
   "outputs": [
    {
     "output_type": "stream",
     "name": "stdout",
     "text": [
      "a[10:20:2]:  [10 12 14 16 18]\n"
     ]
    }
   ],
   "source": [
    "# a[start:end:interval]\n",
    "a = np.arange(100)\n",
    "\n",
    "print('a[10:20:2]: ', a[10:20:2])"
   ]
  },
  {
   "cell_type": "code",
   "execution_count": null,
   "metadata": {},
   "outputs": [],
   "source": []
  },
  {
   "cell_type": "code",
   "execution_count": null,
   "metadata": {},
   "outputs": [],
   "source": []
  }
 ]
}