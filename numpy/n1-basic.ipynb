{
 "metadata": {
  "language_info": {
   "codemirror_mode": {
    "name": "ipython",
    "version": 3
   },
   "file_extension": ".py",
   "mimetype": "text/x-python",
   "name": "python",
   "nbconvert_exporter": "python",
   "pygments_lexer": "ipython3",
   "version": "3.7.6-final"
  },
  "orig_nbformat": 2,
  "kernelspec": {
   "name": "python3",
   "display_name": "Python 3",
   "language": "python"
  }
 },
 "nbformat": 4,
 "nbformat_minor": 2,
 "cells": [
  {
   "cell_type": "code",
   "execution_count": 10,
   "metadata": {},
   "outputs": [],
   "source": [
    "import numpy as np"
   ]
  },
  {
   "cell_type": "code",
   "execution_count": 30,
   "metadata": {},
   "outputs": [
    {
     "output_type": "stream",
     "name": "stdout",
     "text": [
      "array:  [[1 2 3]\n [4 5 6]]\na.shape:  (2, 3)\na.size:  6\na.sum:  21\n"
     ]
    },
    {
     "output_type": "error",
     "ename": "AttributeError",
     "evalue": "'numpy.ndarray' object has no attribute 'ndarray'",
     "traceback": [
      "\u001b[0;31m---------------------------------------------------------------------------\u001b[0m",
      "\u001b[0;31mAttributeError\u001b[0m                            Traceback (most recent call last)",
      "\u001b[0;32m<ipython-input-30-325ae2191df3>\u001b[0m in \u001b[0;36m<module>\u001b[0;34m\u001b[0m\n\u001b[1;32m      8\u001b[0m \u001b[0mprint\u001b[0m\u001b[0;34m(\u001b[0m\u001b[0;34m'a.size: '\u001b[0m\u001b[0;34m,\u001b[0m \u001b[0ma\u001b[0m\u001b[0;34m.\u001b[0m\u001b[0msize\u001b[0m\u001b[0;34m)\u001b[0m\u001b[0;34m\u001b[0m\u001b[0;34m\u001b[0m\u001b[0m\n\u001b[1;32m      9\u001b[0m \u001b[0mprint\u001b[0m\u001b[0;34m(\u001b[0m\u001b[0;34m'a.sum: '\u001b[0m\u001b[0;34m,\u001b[0m \u001b[0ma\u001b[0m\u001b[0;34m.\u001b[0m\u001b[0msum\u001b[0m\u001b[0;34m(\u001b[0m\u001b[0;34m)\u001b[0m\u001b[0;34m)\u001b[0m\u001b[0;34m\u001b[0m\u001b[0;34m\u001b[0m\u001b[0m\n\u001b[0;32m---> 10\u001b[0;31m \u001b[0mprint\u001b[0m\u001b[0;34m(\u001b[0m\u001b[0;34m'a.ndarray'\u001b[0m\u001b[0;34m,\u001b[0m \u001b[0ma\u001b[0m\u001b[0;34m.\u001b[0m\u001b[0mndarray\u001b[0m\u001b[0;34m)\u001b[0m\u001b[0;34m\u001b[0m\u001b[0;34m\u001b[0m\u001b[0m\n\u001b[0m\u001b[1;32m     11\u001b[0m \u001b[0;34m\u001b[0m\u001b[0m\n\u001b[1;32m     12\u001b[0m \u001b[0;31m# 関数化\u001b[0m\u001b[0;34m\u001b[0m\u001b[0;34m\u001b[0m\u001b[0;34m\u001b[0m\u001b[0m\n",
      "\u001b[0;31mAttributeError\u001b[0m: 'numpy.ndarray' object has no attribute 'ndarray'"
     ]
    }
   ],
   "source": [
    "# 配列を作る\n",
    "# np.array(array)\n",
    "a = np.array([[1, 2, 3], [4, 5, 6]])\n",
    "\n",
    "# 配列の情報を取得する\n",
    "print('array: ', a)\n",
    "print('a.shape: ', a.shape)\n",
    "print('a.size: ', a.size)\n",
    "print('a.sum: ', a.sum())\n",
    "print('a.ndarray', a.ndarray)\n",
    "\n",
    "# 関数化\n",
    "def info(array):\n",
    "    print('array: ', array)\n",
    "    print('shape: ', array.shape)\n",
    "    print('size: ', array.size)\n",
    "    print('sum: ', array.sum())"
   ]
  },
  {
   "cell_type": "code",
   "execution_count": 23,
   "metadata": {},
   "outputs": [
    {
     "output_type": "stream",
     "name": "stdout",
     "text": [
      "array:  [0. 0. 0. 0.]\nshape:  (4,)\nsize:  4\nsum:  0.0\narray:  [[[0. 0. 0. ... 0. 0. 0.]\n  [0. 0. 0. ... 0. 0. 0.]\n  [0. 0. 0. ... 0. 0. 0.]\n  ...\n  [0. 0. 0. ... 0. 0. 0.]\n  [0. 0. 0. ... 0. 0. 0.]\n  [0. 0. 0. ... 0. 0. 0.]]\n\n [[0. 0. 0. ... 0. 0. 0.]\n  [0. 0. 0. ... 0. 0. 0.]\n  [0. 0. 0. ... 0. 0. 0.]\n  ...\n  [0. 0. 0. ... 0. 0. 0.]\n  [0. 0. 0. ... 0. 0. 0.]\n  [0. 0. 0. ... 0. 0. 0.]]\n\n [[0. 0. 0. ... 0. 0. 0.]\n  [0. 0. 0. ... 0. 0. 0.]\n  [0. 0. 0. ... 0. 0. 0.]\n  ...\n  [0. 0. 0. ... 0. 0. 0.]\n  [0. 0. 0. ... 0. 0. 0.]\n  [0. 0. 0. ... 0. 0. 0.]]]\nshape:  (3, 128, 128)\nsize:  49152\nsum:  0.0\n"
     ]
    }
   ],
   "source": [
    "# 要素がゼロの配列\n",
    "a = np.zeros(4)\n",
    "info(a)\n",
    "\n",
    "a = np.zeros((3, 128, 128))\n",
    "info(a)"
   ]
  },
  {
   "cell_type": "code",
   "execution_count": 24,
   "metadata": {},
   "outputs": [
    {
     "output_type": "stream",
     "name": "stdout",
     "text": [
      "array:  [0 1 2 3 4]\nshape:  (5,)\nsize:  5\nsum:  10\n"
     ]
    }
   ],
   "source": [
    "# 配列を作成する\n",
    "# np.arange(num) out: arary([...num])\n",
    "b = np.arange(5)\n",
    "\n",
    "info(b)"
   ]
  },
  {
   "cell_type": "code",
   "execution_count": 25,
   "metadata": {},
   "outputs": [
    {
     "output_type": "stream",
     "name": "stdout",
     "text": [
      "array:  [10 12 14 16 18]\nshape:  (5,)\nsize:  5\nsum:  70\n"
     ]
    }
   ],
   "source": [
    "# np.arange(start, end, linspace)\n",
    "c = np.arange(10, 20, 2)\n",
    "info(c)"
   ]
  },
  {
   "cell_type": "code",
   "execution_count": 26,
   "metadata": {},
   "outputs": [
    {
     "output_type": "stream",
     "name": "stdout",
     "text": [
      "array:  [ 1.  2.  3.  4.  5.  6.  7.  8.  9. 10.]\nshape:  (10,)\nsize:  10\nsum:  55.0\n"
     ]
    }
   ],
   "source": [
    "# np.linspace(start, end, num_divide)\n",
    "d = np.linspace(1, 10, 10)\n",
    "info(d)"
   ]
  },
  {
   "cell_type": "code",
   "execution_count": 27,
   "metadata": {},
   "outputs": [
    {
     "output_type": "stream",
     "name": "stdout",
     "text": [
      "array:  [[ 1.  2.  3.]\n [ 4.  5.  6.]\n [ 7.  8.  9.]\n [10. 11. 12.]\n [13. 14. 15.]]\nshape:  (5, 3)\nsize:  15\nsum:  120.0\n"
     ]
    }
   ],
   "source": [
    "# 配列の形を変更する\n",
    "# np.reshape(num_cols, num_rows)\n",
    "e = np.linspace(1, 15, 15).reshape(5, 3)\n",
    "info(e)"
   ]
  },
  {
   "cell_type": "code",
   "execution_count": 28,
   "metadata": {},
   "outputs": [
    {
     "output_type": "stream",
     "name": "stdout",
     "text": [
      "array:  [[ 1.  2.  3.  4.  5.]\n [ 6.  7.  8.  9. 10.]\n [11. 12. 13. 14. 15.]]\nshape:  (3, 5)\nsize:  15\nsum:  120.0\narray:  [0. 0. 0. ... 0. 0. 0.]\nshape:  (16384,)\nsize:  16384\nsum:  0.0\n"
     ]
    }
   ],
   "source": [
    "# 要素の数が同じであれば、reshapeできる\n",
    "f = e.reshape(3, 5)\n",
    "info(f)\n",
    "\n",
    "g = np.zeros((128, 128)).reshape(128 * 128)\n",
    "info(g)"
   ]
  },
  {
   "cell_type": "code",
   "execution_count": 31,
   "metadata": {},
   "outputs": [
    {
     "output_type": "stream",
     "name": "stdout",
     "text": [
      "array:  [[0 1 2 3 4]\n [5 6 7 8 9]]\nshape:  (2, 5)\nsize:  10\nsum:  45\narray:  [[0 5]\n [1 6]\n [2 7]\n [3 8]\n [4 9]]\nshape:  (5, 2)\nsize:  10\nsum:  45\n"
     ]
    }
   ],
   "source": [
    "# np.transpose() np.TでもOK\n",
    "h = np.arange(10).reshape(2, 5)\n",
    "info(h)\n",
    "i = h.T\n",
    "info(i)"
   ]
  },
  {
   "cell_type": "code",
   "execution_count": null,
   "metadata": {},
   "outputs": [],
   "source": []
  },
  {
   "cell_type": "code",
   "execution_count": null,
   "metadata": {},
   "outputs": [],
   "source": []
  }
 ]
}